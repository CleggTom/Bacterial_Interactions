{
 "cells": [
  {
   "cell_type": "code",
   "execution_count": 1,
   "metadata": {},
   "outputs": [],
   "source": [
    "#Load some modules etc\n",
    "%matplotlib inline\n",
    "import matplotlib.pyplot as plt\n",
    "from sympy import *\n",
    "import scipy as sc\n",
    "import numpy as np\n",
    "init_printing()"
   ]
  },
  {
   "cell_type": "markdown",
   "metadata": {},
   "source": [
    "# Interaction estimates\n",
    "Just some checking of the the interaction estimates"
   ]
  },
  {
   "cell_type": "code",
   "execution_count": 2,
   "metadata": {},
   "outputs": [
    {
     "data": {
      "image/png": "[encoded data removed]",
      "text/latex": [
       "$\\displaystyle \\left( \\left(a_{11} \\operatorname{C_{1}}{\\left(t \\right)} + a_{12} \\operatorname{C_{2}}{\\left(t \\right)} + r_{1}\\right) \\operatorname{C_{1}}{\\left(t \\right)}, \\  \\left(a_{21} \\operatorname{C_{1}}{\\left(t \\right)} + a_{22} \\operatorname{C_{2}}{\\left(t \\right)} + r_{2}\\right) \\operatorname{C_{2}}{\\left(t \\right)}\\right)$"
      ],
      "text/plain": [
       "((a₁₁⋅C₁(t) + a₁₂⋅C₂(t) + r₁)⋅C₁(t), (a₂₁⋅C₁(t) + a₂₂⋅C₂(t) + r₂)⋅C₂(t))"
      ]
     },
     "execution_count": 2,
     "metadata": {},
     "output_type": "execute_result"
    }
   ],
   "source": [
    "#define variables\n",
    "t,N = var(\"t,N\")\n",
    "#State vars\n",
    "C_1 = Function(\"C_1\")(t)\n",
    "C_2 = Function(\"C_2\")(t)\n",
    "C_tot = Function(\"C_tot\")(t) \n",
    "#Params\n",
    "r_1,r_2,r_tot = var(\"r_1,r_2,r_tot\")\n",
    "a_12,a_21 = var(\"a_12,a_21\")\n",
    "a_11,a_22 = var(\"a_11,a_22\")\n",
    "a = var(\"alpha\")\n",
    "\n",
    "#derivatives\n",
    "dC_1 = C_1 * (r_1 + (C_1*a_11) + (C_2*a_12) )\n",
    "dC_2 = C_2 * (r_2 + (C_2*a_22) + (C_1*a_21) )\n",
    "\n",
    "dC_1, dC_2"
   ]
  },
  {
   "cell_type": "code",
   "execution_count": 3,
   "metadata": {},
   "outputs": [
    {
     "data": {
      "image/png": "[encoded data removed]",
      "text/latex": [
       "$\\displaystyle r_{tot} \\operatorname{C_{tot}}{\\left(t \\right)} = \\left(a_{11} \\operatorname{C_{1}}{\\left(t \\right)} + a_{12} \\operatorname{C_{2}}{\\left(t \\right)} + r_{1}\\right) \\operatorname{C_{1}}{\\left(t \\right)} + \\left(a_{21} \\operatorname{C_{1}}{\\left(t \\right)} + a_{22} \\operatorname{C_{2}}{\\left(t \\right)} + r_{2}\\right) \\operatorname{C_{2}}{\\left(t \\right)}$"
      ],
      "text/plain": [
       "rₜₒₜ⋅Cₜₒₜ(t) = (a₁₁⋅C₁(t) + a₁₂⋅C₂(t) + r₁)⋅C₁(t) + (a₂₁⋅C₁(t) + a₂₂⋅C₂(t) + r\n",
       "₂)⋅C₂(t)"
      ]
     },
     "execution_count": 3,
     "metadata": {},
     "output_type": "execute_result"
    }
   ],
   "source": [
    "#total equation\n",
    "equ = Eq(C_tot * r_tot,dC_1 + dC_2)\n",
    "equ"
   ]
  },
  {
   "cell_type": "code",
   "execution_count": 4,
   "metadata": {},
   "outputs": [
    {
     "data": {
      "image/png": "[encoded data removed]",
      "text/latex": [
       "$\\displaystyle r_{tot} \\operatorname{C_{tot}}{\\left(t \\right)} = \\frac{\\left(\\frac{a_{11} \\operatorname{C_{tot}}{\\left(t \\right)}}{2} + \\frac{\\alpha \\operatorname{C_{tot}}{\\left(t \\right)}}{2} + r_{1}\\right) \\operatorname{C_{tot}}{\\left(t \\right)}}{2} + \\frac{\\left(\\frac{a_{22} \\operatorname{C_{tot}}{\\left(t \\right)}}{2} + \\frac{\\alpha \\operatorname{C_{tot}}{\\left(t \\right)}}{2} + r_{2}\\right) \\operatorname{C_{tot}}{\\left(t \\right)}}{2}$"
      ],
      "text/plain": [
       "               ⎛a₁₁⋅Cₜₒₜ(t)   α⋅Cₜₒₜ(t)     ⎞           ⎛a₂₂⋅Cₜₒₜ(t)   α⋅Cₜₒₜ(\n",
       "               ⎜─────────── + ───────── + r₁⎟⋅Cₜₒₜ(t)   ⎜─────────── + ───────\n",
       "               ⎝     2            2         ⎠           ⎝     2            2  \n",
       "rₜₒₜ⋅Cₜₒₜ(t) = ────────────────────────────────────── + ──────────────────────\n",
       "                                 2                                        2   \n",
       "\n",
       "t)     ⎞        \n",
       "── + r₂⎟⋅Cₜₒₜ(t)\n",
       "       ⎠        \n",
       "────────────────\n",
       "                "
      ]
     },
     "execution_count": 4,
     "metadata": {},
     "output_type": "execute_result"
    }
   ],
   "source": [
    "x = equ.subs({C_1:C_tot/2,C_2:C_tot/2,a_12:a,a_21:a})\n",
    "x"
   ]
  },
  {
   "cell_type": "code",
   "execution_count": 5,
   "metadata": {},
   "outputs": [
    {
     "data": {
      "image/png": "[encoded data removed]",
      "text/latex": [
       "$\\displaystyle - \\frac{a_{11}}{2} - \\frac{a_{22}}{2} - \\frac{r_{1}}{\\operatorname{C_{tot}}{\\left(t \\right)}} - \\frac{r_{2}}{\\operatorname{C_{tot}}{\\left(t \\right)}} + \\frac{2 r_{tot}}{\\operatorname{C_{tot}}{\\left(t \\right)}}$"
      ],
      "text/plain": [
       "  a₁₁   a₂₂      r₁        r₂      2⋅rₜₒₜ\n",
       "- ─── - ─── - ─────── - ─────── + ───────\n",
       "   2     2    Cₜₒₜ(t)   Cₜₒₜ(t)   Cₜₒₜ(t)"
      ]
     },
     "execution_count": 5,
     "metadata": {},
     "output_type": "execute_result"
    }
   ],
   "source": [
    "(expand(solve(x,a)[0]))"
   ]
  },
  {
   "cell_type": "markdown",
   "metadata": {},
   "source": [
    "and with carrying capacity ($K$)."
   ]
  },
  {
   "cell_type": "code",
   "execution_count": 6,
   "metadata": {},
   "outputs": [
    {
     "data": {
      "image/png": "[encoded data removed]",
      "text/latex": [
       "$\\displaystyle - \\frac{r_{1}}{\\operatorname{C_{tot}}{\\left(t \\right)}} - \\frac{r_{2}}{\\operatorname{C_{tot}}{\\left(t \\right)}} + \\frac{2 r_{tot}}{\\operatorname{C_{tot}}{\\left(t \\right)}} - \\frac{r_{2}}{2 K_{2}} - \\frac{r_{1}}{2 K_{1}}$"
      ],
      "text/plain": [
       "     r₁        r₂      2⋅rₜₒₜ    r₂     r₁ \n",
       "- ─────── - ─────── + ─────── - ──── - ────\n",
       "  Cₜₒₜ(t)   Cₜₒₜ(t)   Cₜₒₜ(t)   2⋅K₂   2⋅K₁"
      ]
     },
     "execution_count": 6,
     "metadata": {},
     "output_type": "execute_result"
    }
   ],
   "source": [
    "K_1,K_2 = var(\"K_1,K_2\")\n",
    "\n",
    "(expand(solve(x,a)[0])).subs({a_11:r_1/K_1, a_22:r_2/K_2})"
   ]
  },
  {
   "cell_type": "markdown",
   "metadata": {},
   "source": [
    "# Community Biomass Approximations"
   ]
  },
  {
   "cell_type": "code",
   "execution_count": 68,
   "metadata": {},
   "outputs": [],
   "source": [
    "#define variables\n",
    "t,N,T = var(\"t,N,T\")\n",
    "#State vars\n",
    "C = Function(\"C\")(t)\n",
    "r,ur,ur2,sr = var(\"r,mu_r,mu_r_2,sigma_r\")\n",
    "a,ua = var(\"a,mu_a\")\n",
    "p,up = var(\"psi,mu_psi\")\n",
    "\n",
    "uC = -(ur/ua)*(1/(1+ (up/ua)))\n",
    "C = (-r - p*uC)/a"
   ]
  },
  {
   "cell_type": "code",
   "execution_count": 69,
   "metadata": {},
   "outputs": [
    {
     "data": {
      "image/png": "[encoded data removed]",
      "text/latex": [
       "$\\displaystyle \\left( - \\frac{\\mu_{r}}{\\mu_{a} \\left(1 + \\frac{\\mu_{\\psi}}{\\mu_{a}}\\right)}, \\  \\frac{- r + \\frac{\\mu_{r} \\psi}{\\mu_{a} \\left(1 + \\frac{\\mu_{\\psi}}{\\mu_{a}}\\right)}}{a}\\right)$"
      ],
      "text/plain": [
       "⎛                         μᵣ⋅ψ    ⎞\n",
       "⎜               -r + ─────────────⎟\n",
       "⎜                       ⎛    μₚₛᵢ⎞⎟\n",
       "⎜                    μₐ⋅⎜1 + ────⎟⎟\n",
       "⎜     -μᵣ               ⎝     μₐ ⎠⎟\n",
       "⎜─────────────, ──────────────────⎟\n",
       "⎜   ⎛    μₚₛᵢ⎞          a         ⎟\n",
       "⎜μₐ⋅⎜1 + ────⎟                    ⎟\n",
       "⎝   ⎝     μₐ ⎠                    ⎠"
      ]
     },
     "execution_count": 69,
     "metadata": {},
     "output_type": "execute_result"
    }
   ],
   "source": [
    "uC , C"
   ]
  },
  {
   "cell_type": "code",
   "execution_count": 70,
   "metadata": {},
   "outputs": [
    {
     "data": {
      "image/png": "[encoded data removed]",
      "text/latex": [
       "$\\displaystyle \\frac{\\mu_{r}^{2} - \\mu_{r 2}}{\\mu_{a}}$"
      ],
      "text/plain": [
       "  2       \n",
       "μᵣ  - μᵣ ₂\n",
       "──────────\n",
       "    μₐ    "
      ]
     },
     "execution_count": 70,
     "metadata": {},
     "output_type": "execute_result"
    }
   ],
   "source": [
    "cov = (C*r).expand().subs({r:ur,a:ua,r**2:ur2,p:up}) \n",
    "\n",
    "(cov - uC*ur).factor()"
   ]
  },
  {
   "cell_type": "code",
   "execution_count": null,
   "metadata": {},
   "outputs": [],
   "source": []
  },
  {
   "cell_type": "markdown",
   "metadata": {},
   "source": [
    "## Approximating Total Biomass"
   ]
  },
  {
   "cell_type": "code",
   "execution_count": 9,
   "metadata": {},
   "outputs": [
    {
     "data": {
      "image/png": "[encoded data removed]",
      "text/latex": [
       "$$\\alpha \\operatorname{C_{tot}}^{2}{\\left (t \\right )} + \\frac{r_{tot} \\operatorname{C_{tot}}{\\left (t \\right )}}{N} + \\frac{a_{tot} \\operatorname{C_{tot}}^{2}{\\left (t \\right )}}{N^{2}}$$"
      ],
      "text/plain": [
       "                                     2   \n",
       "      2      rₜₒₜ⋅Cₜₒₜ(t)   aₜₒₜ⋅Cₜₒₜ (t)\n",
       "α⋅Cₜₒₜ (t) + ──────────── + ─────────────\n",
       "                  N                2     \n",
       "                                  N      "
      ]
     },
     "execution_count": 9,
     "metadata": {},
     "output_type": "execute_result"
    }
   ],
   "source": [
    "dC_tot_app = dC_tot.subs({C_1:C_tot/N,C_2:C_tot/N,C_3:C_tot/N})\n",
    "\n",
    "dC_tot_app = expand(dC_tot_app).subs({r_1*C_tot/N + r_2*C_tot/N + r_3*C_tot/N:r_tot*C_tot/N,\n",
    "                         a_1*C_tot**2/N**2 + a_2*C_tot**2/N**2 + a_3*C_tot**2/N**2 : a_tot * C_tot **2 / N**2,\n",
    "                         3*a*C_tot**2:N*a*C_tot**2})\n",
    "dC_tot_app"
   ]
  },
  {
   "cell_type": "code",
   "execution_count": 10,
   "metadata": {},
   "outputs": [
    {
     "data": {
      "image/png": "[encoded data removed]",
      "text/latex": [
       "$$2 \\alpha^{2} \\operatorname{C_{tot}}^{3}{\\left (t \\right )} + \\frac{3 \\alpha r_{tot} \\operatorname{C_{tot}}^{2}{\\left (t \\right )}}{N} + \\frac{4 a_{tot} \\alpha \\operatorname{C_{tot}}^{3}{\\left (t \\right )}}{N^{2}} + \\frac{r_{tot}^{2} \\operatorname{C_{tot}}{\\left (t \\right )}}{N^{2}} + \\frac{3 a_{tot} r_{tot} \\operatorname{C_{tot}}^{2}{\\left (t \\right )}}{N^{3}} + \\frac{2 a_{tot}^{2} \\operatorname{C_{tot}}^{3}{\\left (t \\right )}}{N^{4}}$$"
      ],
      "text/plain": [
       "                             2                   3          2                 \n",
       "   2     3      3⋅α⋅rₜₒₜ⋅Cₜₒₜ (t)   4⋅aₜₒₜ⋅α⋅Cₜₒₜ (t)   rₜₒₜ ⋅Cₜₒₜ(t)   3⋅aₜₒₜ\n",
       "2⋅α ⋅Cₜₒₜ (t) + ───────────────── + ───────────────── + ───────────── + ──────\n",
       "                        N                    2                 2              \n",
       "                                            N                 N               \n",
       "\n",
       "          2            2     3   \n",
       "⋅rₜₒₜ⋅Cₜₒₜ (t)   2⋅aₜₒₜ ⋅Cₜₒₜ (t)\n",
       "────────────── + ────────────────\n",
       "    3                    4       \n",
       "   N                    N        "
      ]
     },
     "execution_count": 10,
     "metadata": {},
     "output_type": "execute_result"
    }
   ],
   "source": [
    "dC2_tot = dC_tot_app.diff(t)\n",
    "dC_tot_symb = dC2_tot.args[0].args[2]\n",
    "dC2_tot = expand(dC2_tot.subs({dC_tot_symb:dC_tot_app}))\n",
    "collect(dC2_tot,a)\n",
    "dC2_tot"
   ]
  },
  {
   "cell_type": "code",
   "execution_count": 11,
   "metadata": {},
   "outputs": [
    {
     "data": {
      "image/png": "[encoded data removed]",
      "text/latex": [
       "$$\\frac{t^{3} \\left. \\frac{d^{2}}{d x^{2}} \\operatorname{C_{tot}}{\\left (x \\right )} \\right|_{\\substack{ x=0 }}}{6} + \\frac{t^{2} \\left. \\frac{d}{d x} \\operatorname{C_{tot}}{\\left (x \\right )} \\right|_{\\substack{ x=0 }}}{2} + t \\operatorname{C_{tot}}{\\left (0 \\right )}$$"
      ],
      "text/plain": [
       "   ⎛  2         ⎞│                                      \n",
       " 3 ⎜ d          ⎟│                                      \n",
       "t ⋅⎜───(Cₜₒₜ(x))⎟│       2 ⎛d          ⎞│               \n",
       "   ⎜  2         ⎟│      t ⋅⎜──(Cₜₒₜ(x))⎟│               \n",
       "   ⎝dx          ⎠│x=0      ⎝dx         ⎠│x=0            \n",
       "───────────────────── + ──────────────────── + t⋅Cₜₒₜ(0)\n",
       "          6                      2                      "
      ]
     },
     "execution_count": 11,
     "metadata": {},
     "output_type": "execute_result"
    }
   ],
   "source": [
    "int_C_tot = series(integrate(C_tot,t),x = t ,x0 = 0,n = 4).removeO()\n",
    "int_C_tot"
   ]
  },
  {
   "cell_type": "code",
   "execution_count": 12,
   "metadata": {},
   "outputs": [
    {
     "data": {
      "image/png": "[encoded data removed]",
      "text/latex": [
       "$$\\frac{\\alpha^{2} t^{3} \\operatorname{C_{tot}}^{3}{\\left (0 \\right )}}{3} + \\frac{\\alpha t^{2} \\operatorname{C_{tot}}^{2}{\\left (0 \\right )}}{2} + t \\operatorname{C_{tot}}{\\left (0 \\right )} + \\frac{\\alpha r_{tot} t^{3} \\operatorname{C_{tot}}^{2}{\\left (0 \\right )}}{2 N} + \\frac{r_{tot} t^{2} \\operatorname{C_{tot}}{\\left (0 \\right )}}{2 N} + \\frac{2 a_{tot} \\alpha t^{3} \\operatorname{C_{tot}}^{3}{\\left (0 \\right )}}{3 N^{2}} + \\frac{a_{tot} t^{2} \\operatorname{C_{tot}}^{2}{\\left (0 \\right )}}{2 N^{2}} + \\frac{r_{tot}^{2} t^{3} \\operatorname{C_{tot}}{\\left (0 \\right )}}{6 N^{2}} + \\frac{a_{tot} r_{tot} t^{3} \\operatorname{C_{tot}}^{2}{\\left (0 \\right )}}{2 N^{3}} + \\frac{a_{tot}^{2} t^{3} \\operatorname{C_{tot}}^{3}{\\left (0 \\right )}}{3 N^{4}}$$"
      ],
      "text/plain": [
       " 2  3     3         2     2                          3     2            2     \n",
       "α ⋅t ⋅Cₜₒₜ (0)   α⋅t ⋅Cₜₒₜ (0)               α⋅rₜₒₜ⋅t ⋅Cₜₒₜ (0)   rₜₒₜ⋅t ⋅Cₜₒₜ\n",
       "────────────── + ───────────── + t⋅Cₜₒₜ(0) + ────────────────── + ────────────\n",
       "      3                2                            2⋅N                 2⋅N   \n",
       "                                                                              \n",
       "\n",
       "                3     3            2     2          2  3                      \n",
       "(0)   2⋅aₜₒₜ⋅α⋅t ⋅Cₜₒₜ (0)   aₜₒₜ⋅t ⋅Cₜₒₜ (0)   rₜₒₜ ⋅t ⋅Cₜₒₜ(0)   aₜₒₜ⋅rₜₒₜ⋅t\n",
       "─── + ──────────────────── + ──────────────── + ──────────────── + ───────────\n",
       "                 2                    2                  2                    \n",
       "              3⋅N                  2⋅N                6⋅N                   2⋅\n",
       "\n",
       "3     2          2  3     3   \n",
       " ⋅Cₜₒₜ (0)   aₜₒₜ ⋅t ⋅Cₜₒₜ (0)\n",
       "────────── + ─────────────────\n",
       " 3                     4      \n",
       "N                   3⋅N       "
      ]
     },
     "execution_count": 12,
     "metadata": {},
     "output_type": "execute_result"
    }
   ],
   "source": [
    "dC_tot_symb = int_C_tot.args[1].args[2]\n",
    "dC2_tot_symb = int_C_tot.args[2].args[2]\n",
    "C_tot_t = expand(int_C_tot.subs({dC_tot_symb:dC_tot_app.subs({t:0}), dC2_tot_symb:dC2_tot.subs({t:0})}))\n",
    "C_tot_t"
   ]
  },
  {
   "cell_type": "markdown",
   "metadata": {},
   "source": [
    "# Approximating individual biomass"
   ]
  },
  {
   "cell_type": "code",
   "execution_count": 68,
   "metadata": {},
   "outputs": [
    {
     "data": {
      "image/png": "[encoded data removed]",
      "text/latex": [
       "$$\\left(\\frac{\\alpha}{N} + \\frac{a_{1}}{N^{2}}\\right) \\operatorname{C_{tot}}^{2}{\\left (t \\right )} + \\frac{r_{1} \\operatorname{C_{tot}}{\\left (t \\right )}}{N}$$"
      ],
      "text/plain": [
       "⎛α   a₁⎞     2      r₁⋅Cₜₒₜ(t)\n",
       "⎜─ + ──⎟⋅Cₜₒₜ (t) + ──────────\n",
       "⎜N    2⎟                N     \n",
       "⎝    N ⎠                      "
      ]
     },
     "execution_count": 68,
     "metadata": {},
     "output_type": "execute_result"
    }
   ],
   "source": [
    "#First derivative\n",
    "dC_1_app = collect(expand(dC_1.subs({C_1:C_tot/N})),C_tot)\n",
    "dC_1_app"
   ]
  },
  {
   "cell_type": "code",
   "execution_count": 80,
   "metadata": {},
   "outputs": [
    {
     "data": {
      "image/png": "[encoded data removed]",
      "text/latex": [
       "$$\\left(a_{1} \\left(\\left(\\frac{\\alpha}{N} + \\frac{a_{1}}{N^{2}}\\right) \\operatorname{C_{tot}}^{2}{\\left (t \\right )} + \\frac{r_{1} \\operatorname{C_{tot}}{\\left (t \\right )}}{N}\\right) + \\alpha \\left(\\left(\\alpha + \\frac{a_{tot}}{N^{2}}\\right) \\operatorname{C_{tot}}^{2}{\\left (t \\right )} + \\frac{r_{tot} \\operatorname{C_{tot}}{\\left (t \\right )}}{N}\\right)\\right) \\operatorname{C_{1}}{\\left (t \\right )} + \\left(\\left(\\frac{\\alpha}{N} + \\frac{a_{1}}{N^{2}}\\right) \\operatorname{C_{tot}}^{2}{\\left (t \\right )} + \\frac{r_{1} \\operatorname{C_{tot}}{\\left (t \\right )}}{N}\\right) \\left(a_{1} \\operatorname{C_{1}}{\\left (t \\right )} + \\alpha \\operatorname{C_{tot}}{\\left (t \\right )} + r_{1}\\right)$$"
      ],
      "text/plain": [
       "⎛   ⎛⎛α   a₁⎞     2      r₁⋅Cₜₒₜ(t)⎞     ⎛⎛    aₜₒₜ⎞     2      rₜₒₜ⋅Cₜₒₜ(t)⎞⎞\n",
       "⎜a₁⋅⎜⎜─ + ──⎟⋅Cₜₒₜ (t) + ──────────⎟ + α⋅⎜⎜α + ────⎟⋅Cₜₒₜ (t) + ────────────⎟⎟\n",
       "⎜   ⎜⎜N    2⎟                N     ⎟     ⎜⎜      2 ⎟                 N      ⎟⎟\n",
       "⎝   ⎝⎝    N ⎠                      ⎠     ⎝⎝     N  ⎠                        ⎠⎠\n",
       "\n",
       "         ⎛⎛α   a₁⎞     2      r₁⋅Cₜₒₜ(t)⎞                            \n",
       "⋅C₁(t) + ⎜⎜─ + ──⎟⋅Cₜₒₜ (t) + ──────────⎟⋅(a₁⋅C₁(t) + α⋅Cₜₒₜ(t) + r₁)\n",
       "         ⎜⎜N    2⎟                N     ⎟                            \n",
       "         ⎝⎝    N ⎠                      ⎠                            "
      ]
     },
     "execution_count": 80,
     "metadata": {},
     "output_type": "execute_result"
    }
   ],
   "source": [
    "#second derivative\n",
    "dC2_1_app = dC_1.diff(t)\n",
    "dC_1_symb = dC2_1_app.args[0].args[0].args[0].args[1]\n",
    "dC_tot_symb = dC2_1_app.args[0].args[0].args[1].args[1]\n",
    "\n",
    "dC2_1_app = dC2_1_app.subs({dC_1_symb:dC_1_app, dC_tot_symb:dC_tot_app})\n",
    "dC2_1_app"
   ]
  },
  {
   "cell_type": "code",
   "execution_count": 86,
   "metadata": {},
   "outputs": [
    {
     "data": {
      "image/png": "[encoded data removed]",
      "text/latex": [
       "$$\\alpha^{2} \\operatorname{C_{1}}{\\left (t \\right )} \\operatorname{C_{tot}}^{2}{\\left (t \\right )} + \\frac{2 a_{1} \\alpha \\operatorname{C_{1}}{\\left (t \\right )} \\operatorname{C_{tot}}^{2}{\\left (t \\right )}}{N} + \\frac{2 a_{1} r_{1} \\operatorname{C_{1}}{\\left (t \\right )} \\operatorname{C_{tot}}{\\left (t \\right )}}{N} + \\frac{\\alpha^{2} \\operatorname{C_{tot}}^{3}{\\left (t \\right )}}{N} + \\frac{2 \\alpha r_{1} \\operatorname{C_{tot}}^{2}{\\left (t \\right )}}{N} + \\frac{\\alpha r_{tot} \\operatorname{C_{1}}{\\left (t \\right )} \\operatorname{C_{tot}}{\\left (t \\right )}}{N} + \\frac{r_{1}^{2} \\operatorname{C_{tot}}{\\left (t \\right )}}{N} + \\frac{2 a_{1}^{2} \\operatorname{C_{1}}{\\left (t \\right )} \\operatorname{C_{tot}}^{2}{\\left (t \\right )}}{N^{2}} + \\frac{a_{1} \\alpha \\operatorname{C_{tot}}^{3}{\\left (t \\right )}}{N^{2}} + \\frac{a_{1} r_{1} \\operatorname{C_{tot}}^{2}{\\left (t \\right )}}{N^{2}} + \\frac{a_{tot} \\alpha \\operatorname{C_{1}}{\\left (t \\right )} \\operatorname{C_{tot}}^{2}{\\left (t \\right )}}{N^{2}}$$"
      ],
      "text/plain": [
       "                                     2                               2     3  \n",
       " 2           2      2⋅a₁⋅α⋅C₁(t)⋅Cₜₒₜ (t)   2⋅a₁⋅r₁⋅C₁(t)⋅Cₜₒₜ(t)   α ⋅Cₜₒₜ (t\n",
       "α ⋅C₁(t)⋅Cₜₒₜ (t) + ───────────────────── + ───────────────────── + ──────────\n",
       "                              N                       N                  N    \n",
       "                                                                              \n",
       "\n",
       "               2                               2               2           2  \n",
       ")   2⋅α⋅r₁⋅Cₜₒₜ (t)   α⋅rₜₒₜ⋅C₁(t)⋅Cₜₒₜ(t)   r₁ ⋅Cₜₒₜ(t)   2⋅a₁ ⋅C₁(t)⋅Cₜₒₜ (t\n",
       "─ + ─────────────── + ──────────────────── + ─────────── + ───────────────────\n",
       "           N                   N                  N                  2        \n",
       "                                                                    N         \n",
       "\n",
       "             3                2                       2   \n",
       ")   a₁⋅α⋅Cₜₒₜ (t)   a₁⋅r₁⋅Cₜₒₜ (t)   aₜₒₜ⋅α⋅C₁(t)⋅Cₜₒₜ (t)\n",
       "─ + ───────────── + ────────────── + ─────────────────────\n",
       "           2               2                    2         \n",
       "          N               N                    N          "
      ]
     },
     "execution_count": 86,
     "metadata": {},
     "output_type": "execute_result"
    }
   ],
   "source": [
    "collect(expand(dC2_1_app),a)"
   ]
  },
  {
   "cell_type": "code",
   "execution_count": 15,
   "metadata": {},
   "outputs": [
    {
     "data": {
      "image/png": "[encoded data removed]",
      "text/latex": [
       "$$\\frac{t^{3} \\left. \\frac{d^{2}}{d x^{2}} \\operatorname{C_{1}}{\\left (x \\right )} \\right|_{\\substack{ x=0 }}}{6} + \\frac{t^{2} \\left. \\frac{d}{d x} \\operatorname{C_{1}}{\\left (x \\right )} \\right|_{\\substack{ x=0 }}}{2} + t \\operatorname{C_{1}}{\\left (0 \\right )}$$"
      ],
      "text/plain": [
       "   ⎛  2       ⎞│                                  \n",
       " 3 ⎜ d        ⎟│                                  \n",
       "t ⋅⎜───(C₁(x))⎟│       2 ⎛d        ⎞│             \n",
       "   ⎜  2       ⎟│      t ⋅⎜──(C₁(x))⎟│             \n",
       "   ⎝dx        ⎠│x=0      ⎝dx       ⎠│x=0          \n",
       "─────────────────── + ────────────────── + t⋅C₁(0)\n",
       "         6                    2                   "
      ]
     },
     "execution_count": 15,
     "metadata": {},
     "output_type": "execute_result"
    }
   ],
   "source": [
    "int_C_1_tot = series(integrate(C_1,t),x = t ,x0 = 0,n = 4).removeO()\n",
    "int_C_1_tot"
   ]
  },
  {
   "cell_type": "code",
   "execution_count": 16,
   "metadata": {},
   "outputs": [
    {
     "data": {
      "image/png": "[encoded data removed]",
      "text/latex": [
       "$$\\frac{\\alpha^{2} t^{3} \\operatorname{C_{1}}{\\left (0 \\right )} \\operatorname{C_{tot}}^{2}{\\left (0 \\right )}}{6} + t \\operatorname{C_{1}}{\\left (0 \\right )} + \\frac{a_{1} \\alpha t^{3} \\operatorname{C_{1}}{\\left (0 \\right )} \\operatorname{C_{tot}}^{2}{\\left (0 \\right )}}{3 N} + \\frac{a_{1} r_{1} t^{3} \\operatorname{C_{1}}{\\left (0 \\right )} \\operatorname{C_{tot}}{\\left (0 \\right )}}{3 N} + \\frac{\\alpha^{2} t^{3} \\operatorname{C_{tot}}^{3}{\\left (0 \\right )}}{6 N} + \\frac{\\alpha r_{1} t^{3} \\operatorname{C_{tot}}^{2}{\\left (0 \\right )}}{3 N} + \\frac{\\alpha r_{tot} t^{3} \\operatorname{C_{1}}{\\left (0 \\right )} \\operatorname{C_{tot}}{\\left (0 \\right )}}{6 N} + \\frac{\\alpha t^{2} \\operatorname{C_{tot}}^{2}{\\left (0 \\right )}}{2 N} + \\frac{r_{1}^{2} t^{3} \\operatorname{C_{tot}}{\\left (0 \\right )}}{6 N} + \\frac{r_{1} t^{2} \\operatorname{C_{tot}}{\\left (0 \\right )}}{2 N} + \\frac{a_{1}^{2} t^{3} \\operatorname{C_{1}}{\\left (0 \\right )} \\operatorname{C_{tot}}^{2}{\\left (0 \\right )}}{3 N^{2}} + \\frac{a_{1} \\alpha t^{3} \\operatorname{C_{tot}}^{3}{\\left (0 \\right )}}{6 N^{2}} + \\frac{a_{1} r_{1} t^{3} \\operatorname{C_{tot}}^{2}{\\left (0 \\right )}}{6 N^{2}} + \\frac{a_{1} t^{2} \\operatorname{C_{tot}}^{2}{\\left (0 \\right )}}{2 N^{2}} + \\frac{a_{tot} \\alpha t^{3} \\operatorname{C_{1}}{\\left (0 \\right )} \\operatorname{C_{tot}}^{2}{\\left (0 \\right )}}{6 N^{2}}$$"
      ],
      "text/plain": [
       " 2  3           2                      3           2             3            \n",
       "α ⋅t ⋅C₁(0)⋅Cₜₒₜ (0)             a₁⋅α⋅t ⋅C₁(0)⋅Cₜₒₜ (0)   a₁⋅r₁⋅t ⋅C₁(0)⋅Cₜₒₜ(\n",
       "──────────────────── + t⋅C₁(0) + ────────────────────── + ────────────────────\n",
       "         6                                3⋅N                      3⋅N        \n",
       "                                                                              \n",
       "\n",
       "      2  3     3            3     2              3                    2     2 \n",
       "0)   α ⋅t ⋅Cₜₒₜ (0)   α⋅r₁⋅t ⋅Cₜₒₜ (0)   α⋅rₜₒₜ⋅t ⋅C₁(0)⋅Cₜₒₜ(0)   α⋅t ⋅Cₜₒₜ (\n",
       "── + ────────────── + ──────────────── + ─────────────────────── + ───────────\n",
       "          6⋅N               3⋅N                    6⋅N                  2⋅N   \n",
       "                                                                              \n",
       "\n",
       "       2  3               2             2  3           2            3     3   \n",
       "0)   r₁ ⋅t ⋅Cₜₒₜ(0)   r₁⋅t ⋅Cₜₒₜ(0)   a₁ ⋅t ⋅C₁(0)⋅Cₜₒₜ (0)   a₁⋅α⋅t ⋅Cₜₒₜ (0)\n",
       "── + ────────────── + ───────────── + ───────────────────── + ────────────────\n",
       "          6⋅N              2⋅N                    2                    2      \n",
       "                                               3⋅N                  6⋅N       \n",
       "\n",
       "          3     2          2     2              3           2   \n",
       "   a₁⋅r₁⋅t ⋅Cₜₒₜ (0)   a₁⋅t ⋅Cₜₒₜ (0)   aₜₒₜ⋅α⋅t ⋅C₁(0)⋅Cₜₒₜ (0)\n",
       " + ───────────────── + ────────────── + ────────────────────────\n",
       "             2                 2                     2          \n",
       "          6⋅N               2⋅N                   6⋅N           "
      ]
     },
     "execution_count": 16,
     "metadata": {},
     "output_type": "execute_result"
    }
   ],
   "source": [
    "dC_1_symb = int_C_1_tot.args[1].args[2]\n",
    "dC2_1_symb = int_C_1_tot.args[2].args[2]\n",
    "C_1_t = expand(int_C_1_tot.subs({dC_1_symb:dC_1_app.subs({t:0}), dC2_1_symb:dC2_1_app.subs({t:0})}))\n",
    "C_1_t"
   ]
  },
  {
   "cell_type": "code",
   "execution_count": 17,
   "metadata": {},
   "outputs": [
    {
     "data": {
      "image/png": "[encoded data removed]",
      "text/latex": [
       "$$\\log{\\left (\\operatorname{C_{1}}{\\left (t \\right )} \\right )} = \\frac{a_{1} \\alpha^{2} t^{3} \\operatorname{C_{1}}{\\left (0 \\right )} \\operatorname{C_{tot}}^{2}{\\left (0 \\right )}}{6} + a_{1} t \\operatorname{C_{1}}{\\left (0 \\right )} + \\frac{\\alpha^{3} t^{3} \\operatorname{C_{tot}}^{3}{\\left (0 \\right )}}{3} + \\frac{\\alpha^{2} t^{2} \\operatorname{C_{tot}}^{2}{\\left (0 \\right )}}{2} + \\alpha t \\operatorname{C_{tot}}{\\left (0 \\right )} + r_{1} t + \\log{\\left (\\operatorname{C_{1}}{\\left (0 \\right )} \\right )} + \\frac{a_{1}^{2} \\alpha t^{3} \\operatorname{C_{1}}{\\left (0 \\right )} \\operatorname{C_{tot}}^{2}{\\left (0 \\right )}}{3 N} + \\frac{a_{1}^{2} r_{1} t^{3} \\operatorname{C_{1}}{\\left (0 \\right )} \\operatorname{C_{tot}}{\\left (0 \\right )}}{3 N} + \\frac{a_{1} \\alpha^{2} t^{3} \\operatorname{C_{tot}}^{3}{\\left (0 \\right )}}{6 N} + \\frac{a_{1} \\alpha r_{1} t^{3} \\operatorname{C_{tot}}^{2}{\\left (0 \\right )}}{3 N} + \\frac{a_{1} \\alpha r_{tot} t^{3} \\operatorname{C_{1}}{\\left (0 \\right )} \\operatorname{C_{tot}}{\\left (0 \\right )}}{6 N} + \\frac{a_{1} \\alpha t^{2} \\operatorname{C_{tot}}^{2}{\\left (0 \\right )}}{2 N} + \\frac{a_{1} r_{1}^{2} t^{3} \\operatorname{C_{tot}}{\\left (0 \\right )}}{6 N} + \\frac{a_{1} r_{1} t^{2} \\operatorname{C_{tot}}{\\left (0 \\right )}}{2 N} + \\frac{\\alpha^{2} r_{tot} t^{3} \\operatorname{C_{tot}}^{2}{\\left (0 \\right )}}{2 N} + \\frac{\\alpha r_{tot} t^{2} \\operatorname{C_{tot}}{\\left (0 \\right )}}{2 N} + \\frac{a_{1}^{3} t^{3} \\operatorname{C_{1}}{\\left (0 \\right )} \\operatorname{C_{tot}}^{2}{\\left (0 \\right )}}{3 N^{2}} + \\frac{a_{1}^{2} \\alpha t^{3} \\operatorname{C_{tot}}^{3}{\\left (0 \\right )}}{6 N^{2}} + \\frac{a_{1}^{2} r_{1} t^{3} \\operatorname{C_{tot}}^{2}{\\left (0 \\right )}}{6 N^{2}} + \\frac{a_{1}^{2} t^{2} \\operatorname{C_{tot}}^{2}{\\left (0 \\right )}}{2 N^{2}} + \\frac{a_{1} a_{tot} \\alpha t^{3} \\operatorname{C_{1}}{\\left (0 \\right )} \\operatorname{C_{tot}}^{2}{\\left (0 \\right )}}{6 N^{2}} + \\frac{2 a_{tot} \\alpha^{2} t^{3} \\operatorname{C_{tot}}^{3}{\\left (0 \\right )}}{3 N^{2}} + \\frac{a_{tot} \\alpha t^{2} \\operatorname{C_{tot}}^{2}{\\left (0 \\right )}}{2 N^{2}} + \\frac{\\alpha r_{tot}^{2} t^{3} \\operatorname{C_{tot}}{\\left (0 \\right )}}{6 N^{2}} + \\frac{a_{tot} \\alpha r_{tot} t^{3} \\operatorname{C_{tot}}^{2}{\\left (0 \\right )}}{2 N^{3}} + \\frac{a_{tot}^{2} \\alpha t^{3} \\operatorname{C_{tot}}^{3}{\\left (0 \\right )}}{3 N^{4}}$$"
      ],
      "text/plain": [
       "                 2  3           2                    3  3     3       2  2    \n",
       "             a₁⋅α ⋅t ⋅C₁(0)⋅Cₜₒₜ (0)                α ⋅t ⋅Cₜₒₜ (0)   α ⋅t ⋅Cₜₒ\n",
       "log(C₁(t)) = ─────────────────────── + a₁⋅t⋅C₁(0) + ────────────── + ─────────\n",
       "                        6                                 3                2  \n",
       "                                                                              \n",
       "\n",
       " 2                                          2    3           2        2     3 \n",
       "ₜ (0)                                     a₁ ⋅α⋅t ⋅C₁(0)⋅Cₜₒₜ (0)   a₁ ⋅r₁⋅t ⋅\n",
       "───── + α⋅t⋅Cₜₒₜ(0) + r₁⋅t + log(C₁(0)) + ─────────────────────── + ──────────\n",
       "                                                    3⋅N                       \n",
       "                                                                              \n",
       "\n",
       "                    2  3     3               3     2                 3        \n",
       "C₁(0)⋅Cₜₒₜ(0)   a₁⋅α ⋅t ⋅Cₜₒₜ (0)   a₁⋅α⋅r₁⋅t ⋅Cₜₒₜ (0)   a₁⋅α⋅rₜₒₜ⋅t ⋅C₁(0)⋅C\n",
       "───────────── + ───────────────── + ─────────────────── + ────────────────────\n",
       "3⋅N                    6⋅N                  3⋅N                      6⋅N      \n",
       "                                                                              \n",
       "\n",
       "               2     2           2  3                  2            2       3 \n",
       "ₜₒₜ(0)   a₁⋅α⋅t ⋅Cₜₒₜ (0)   a₁⋅r₁ ⋅t ⋅Cₜₒₜ(0)   a₁⋅r₁⋅t ⋅Cₜₒₜ(0)   α ⋅rₜₒₜ⋅t ⋅\n",
       "────── + ──────────────── + ───────────────── + ──────────────── + ───────────\n",
       "               2⋅N                 6⋅N                2⋅N                  2⋅N\n",
       "                                                                              \n",
       "\n",
       "    2              2             3  3           2        2    3     3        2\n",
       "Cₜₒₜ (0)   α⋅rₜₒₜ⋅t ⋅Cₜₒₜ(0)   a₁ ⋅t ⋅C₁(0)⋅Cₜₒₜ (0)   a₁ ⋅α⋅t ⋅Cₜₒₜ (0)   a₁ \n",
       "──────── + ───────────────── + ───────────────────── + ───────────────── + ───\n",
       "                  2⋅N                      2                     2            \n",
       "                                        3⋅N                   6⋅N             \n",
       "\n",
       "     3     2        2  2     2                 3           2              2  3\n",
       "⋅r₁⋅t ⋅Cₜₒₜ (0)   a₁ ⋅t ⋅Cₜₒₜ (0)   a₁⋅aₜₒₜ⋅α⋅t ⋅C₁(0)⋅Cₜₒₜ (0)   2⋅aₜₒₜ⋅α ⋅t \n",
       "─────────────── + ─────────────── + ─────────────────────────── + ────────────\n",
       "       2                   2                       2                          \n",
       "    6⋅N                 2⋅N                     6⋅N                        3⋅N\n",
       "\n",
       "     3              2     2            2  3                        3     2    \n",
       "⋅Cₜₒₜ (0)   aₜₒₜ⋅α⋅t ⋅Cₜₒₜ (0)   α⋅rₜₒₜ ⋅t ⋅Cₜₒₜ(0)   aₜₒₜ⋅α⋅rₜₒₜ⋅t ⋅Cₜₒₜ (0) \n",
       "───────── + ────────────────── + ────────────────── + ─────────────────────── \n",
       "2                     2                    2                       3          \n",
       "                   2⋅N                  6⋅N                     2⋅N           \n",
       "\n",
       "      2    3     3   \n",
       "  aₜₒₜ ⋅α⋅t ⋅Cₜₒₜ (0)\n",
       "+ ───────────────────\n",
       "             4       \n",
       "          3⋅N        "
      ]
     },
     "execution_count": 17,
     "metadata": {},
     "output_type": "execute_result"
    }
   ],
   "source": [
    "const = var(\"const\")\n",
    "\n",
    "C_1_Eq = Eq(integrate(diff(C_1,t)/C_1,t) , expand(integrate(dC_1/C_1,t)))\n",
    "x = C_1_Eq.args[1].args[0]\n",
    "y = C_1_Eq.args[1].args[1]\n",
    "z = C_1_Eq.args[1].args[2]\n",
    "\n",
    "x,y,z\n",
    "\n",
    "sol = C_1_Eq.subs({ x:r_1*t + const, y:a_1*C_1_t, z:a*C_tot_t,const:log(C_1.subs(t,0)) })\n",
    "\n",
    "expand(sol)"
   ]
  },
  {
   "cell_type": "code",
   "execution_count": 18,
   "metadata": {},
   "outputs": [
    {
     "data": {
      "image/png": "[encoded data removed]",
      "text/latex": [
       "$$\\left(\\alpha + \\frac{a_{tot}}{N^{2}}\\right) \\operatorname{C_{tot}}^{2}{\\left (t \\right )} + \\frac{r_{tot} \\operatorname{C_{tot}}{\\left (t \\right )}}{N}$$"
      ],
      "text/plain": [
       "⎛    aₜₒₜ⎞     2      rₜₒₜ⋅Cₜₒₜ(t)\n",
       "⎜α + ────⎟⋅Cₜₒₜ (t) + ────────────\n",
       "⎜      2 ⎟                 N      \n",
       "⎝     N  ⎠                        "
      ]
     },
     "execution_count": 18,
     "metadata": {},
     "output_type": "execute_result"
    }
   ],
   "source": [
    "dC_tot_app = dC_tot.subs({C_1:C_tot/N,C_2:C_tot/N,C_3:C_tot/N})\n",
    "dC_tot_app = expand(dC_tot_app).subs({r_1*C_tot/N + r_2*C_tot/N + r_3*C_tot/N:r_tot*C_tot/N,\n",
    "                         a_1*C_tot**2/N**2 + a_2*C_tot**2/N**2 + a_3*C_tot**2/N**2 : a_tot * C_tot **2 / N**2,\n",
    "                         3*a*C_tot**2:N*a*C_tot**2})\n",
    "\n",
    "dC_tot_app = collect(dC_tot_app,C_tot)\n",
    "dC_tot_app"
   ]
  },
  {
   "cell_type": "code",
   "execution_count": 19,
   "metadata": {},
   "outputs": [
    {
     "data": {
      "image/png": "[encoded data removed]",
      "text/latex": [
       "$$2 \\left(\\alpha + \\frac{a_{tot}}{N^{2}}\\right) \\operatorname{C_{tot}}{\\left (t \\right )} \\frac{d}{d t} \\operatorname{C_{tot}}{\\left (t \\right )} + \\frac{r_{tot} \\frac{d}{d t} \\operatorname{C_{tot}}{\\left (t \\right )}}{N}$$"
      ],
      "text/plain": [
       "                                        d          \n",
       "                                   rₜₒₜ⋅──(Cₜₒₜ(t))\n",
       "  ⎛    aₜₒₜ⎞         d                  dt         \n",
       "2⋅⎜α + ────⎟⋅Cₜₒₜ(t)⋅──(Cₜₒₜ(t)) + ────────────────\n",
       "  ⎜      2 ⎟         dt                   N        \n",
       "  ⎝     N  ⎠                                       "
      ]
     },
     "execution_count": 19,
     "metadata": {},
     "output_type": "execute_result"
    }
   ],
   "source": [
    "dC_tot_app.diff(t)"
   ]
  },
  {
   "cell_type": "code",
   "execution_count": 20,
   "metadata": {},
   "outputs": [
    {
     "data": {
      "image/png": "[encoded data removed]",
      "text/latex": [
       "$$2 \\left(\\alpha + \\frac{a_{tot}}{N^{2}}\\right) \\operatorname{C_{tot}}{\\left (t \\right )} \\frac{d^{2}}{d t^{2}} \\operatorname{C_{tot}}{\\left (t \\right )} + 2 \\left(\\alpha + \\frac{a_{tot}}{N^{2}}\\right) \\left(\\frac{d}{d t} \\operatorname{C_{tot}}{\\left (t \\right )}\\right)^{2} + \\frac{r_{tot} \\frac{d^{2}}{d t^{2}} \\operatorname{C_{tot}}{\\left (t \\right )}}{N}$$"
      ],
      "text/plain": [
       "                                                                         2    \n",
       "                                                                        d     \n",
       "                                                                  rₜₒₜ⋅───(Cₜₒ\n",
       "                       2                                      2          2    \n",
       "  ⎛    aₜₒₜ⎞          d               ⎛    aₜₒₜ⎞ ⎛d          ⎞         dt     \n",
       "2⋅⎜α + ────⎟⋅Cₜₒₜ(t)⋅───(Cₜₒₜ(t)) + 2⋅⎜α + ────⎟⋅⎜──(Cₜₒₜ(t))⎟  + ────────────\n",
       "  ⎜      2 ⎟           2              ⎜      2 ⎟ ⎝dt         ⎠            N   \n",
       "  ⎝     N  ⎠         dt               ⎝     N  ⎠                              \n",
       "\n",
       "     \n",
       "     \n",
       "ₜ(t))\n",
       "     \n",
       "     \n",
       "─────\n",
       "     \n",
       "     "
      ]
     },
     "execution_count": 20,
     "metadata": {},
     "output_type": "execute_result"
    }
   ],
   "source": [
    "dC_tot_app.diff(t,t)"
   ]
  },
  {
   "cell_type": "code",
   "execution_count": 21,
   "metadata": {},
   "outputs": [
    {
     "data": {
      "image/png": "[encoded data removed]",
      "text/latex": [
       "$$2 \\left(\\alpha + \\frac{a_{tot}}{N^{2}}\\right) \\operatorname{C_{tot}}{\\left (t \\right )} \\frac{d^{3}}{d t^{3}} \\operatorname{C_{tot}}{\\left (t \\right )} + 6 \\left(\\alpha + \\frac{a_{tot}}{N^{2}}\\right) \\frac{d}{d t} \\operatorname{C_{tot}}{\\left (t \\right )} \\frac{d^{2}}{d t^{2}} \\operatorname{C_{tot}}{\\left (t \\right )} + \\frac{r_{tot} \\frac{d^{3}}{d t^{3}} \\operatorname{C_{tot}}{\\left (t \\right )}}{N}$$"
      ],
      "text/plain": [
       "                                                                              \n",
       "                                                                              \n",
       "                                                                            rₜ\n",
       "                       3                                       2              \n",
       "  ⎛    aₜₒₜ⎞          d               ⎛    aₜₒₜ⎞ d            d               \n",
       "2⋅⎜α + ────⎟⋅Cₜₒₜ(t)⋅───(Cₜₒₜ(t)) + 6⋅⎜α + ────⎟⋅──(Cₜₒₜ(t))⋅───(Cₜₒₜ(t)) + ──\n",
       "  ⎜      2 ⎟           3              ⎜      2 ⎟ dt            2              \n",
       "  ⎝     N  ⎠         dt               ⎝     N  ⎠             dt               \n",
       "\n",
       "     3         \n",
       "    d          \n",
       "ₒₜ⋅───(Cₜₒₜ(t))\n",
       "     3         \n",
       "   dt          \n",
       "───────────────\n",
       "      N        \n",
       "               "
      ]
     },
     "execution_count": 21,
     "metadata": {},
     "output_type": "execute_result"
    }
   ],
   "source": [
    "dC_tot_app.diff(t,t,t)"
   ]
  },
  {
   "cell_type": "code",
   "execution_count": 22,
   "metadata": {},
   "outputs": [
    {
     "data": {
      "image/png": "[encoded data removed]",
      "text/latex": [
       "$$2 \\left(\\alpha + \\frac{a_{tot}}{N^{2}}\\right) \\operatorname{C_{tot}}{\\left (t \\right )} \\frac{d^{4}}{d t^{4}} \\operatorname{C_{tot}}{\\left (t \\right )} + 8 \\left(\\alpha + \\frac{a_{tot}}{N^{2}}\\right) \\frac{d}{d t} \\operatorname{C_{tot}}{\\left (t \\right )} \\frac{d^{3}}{d t^{3}} \\operatorname{C_{tot}}{\\left (t \\right )} + 6 \\left(\\alpha + \\frac{a_{tot}}{N^{2}}\\right) \\left(\\frac{d^{2}}{d t^{2}} \\operatorname{C_{tot}}{\\left (t \\right )}\\right)^{2} + \\frac{r_{tot} \\frac{d^{4}}{d t^{4}} \\operatorname{C_{tot}}{\\left (t \\right )}}{N}$$"
      ],
      "text/plain": [
       "                                                                              \n",
       "                                                                              \n",
       "                                                                              \n",
       "                       4                                       3              \n",
       "  ⎛    aₜₒₜ⎞          d               ⎛    aₜₒₜ⎞ d            d               \n",
       "2⋅⎜α + ────⎟⋅Cₜₒₜ(t)⋅───(Cₜₒₜ(t)) + 8⋅⎜α + ────⎟⋅──(Cₜₒₜ(t))⋅───(Cₜₒₜ(t)) + 6⋅\n",
       "  ⎜      2 ⎟           4              ⎜      2 ⎟ dt            3              \n",
       "  ⎝     N  ⎠         dt               ⎝     N  ⎠             dt               \n",
       "\n",
       "                                    4         \n",
       "                                   d          \n",
       "                         2   rₜₒₜ⋅───(Cₜₒₜ(t))\n",
       "           ⎛  2         ⎞           4         \n",
       "⎛    aₜₒₜ⎞ ⎜ d          ⎟         dt          \n",
       "⎜α + ────⎟⋅⎜───(Cₜₒₜ(t))⎟  + ─────────────────\n",
       "⎜      2 ⎟ ⎜  2         ⎟            N        \n",
       "⎝     N  ⎠ ⎝dt          ⎠                     "
      ]
     },
     "execution_count": 22,
     "metadata": {},
     "output_type": "execute_result"
    }
   ],
   "source": [
    "dC_tot_app.diff(t,t,t,t)"
   ]
  },
  {
   "cell_type": "code",
   "execution_count": 23,
   "metadata": {},
   "outputs": [
    {
     "data": {
      "image/png": "[encoded data removed]",
      "text/latex": [
       "$$2 \\left(\\alpha + \\frac{a_{tot}}{N^{2}}\\right) \\operatorname{C_{tot}}{\\left (t \\right )} \\frac{d^{5}}{d t^{5}} \\operatorname{C_{tot}}{\\left (t \\right )} + 10 \\left(\\alpha + \\frac{a_{tot}}{N^{2}}\\right) \\frac{d}{d t} \\operatorname{C_{tot}}{\\left (t \\right )} \\frac{d^{4}}{d t^{4}} \\operatorname{C_{tot}}{\\left (t \\right )} + 20 \\left(\\alpha + \\frac{a_{tot}}{N^{2}}\\right) \\frac{d^{2}}{d t^{2}} \\operatorname{C_{tot}}{\\left (t \\right )} \\frac{d^{3}}{d t^{3}} \\operatorname{C_{tot}}{\\left (t \\right )} + \\frac{r_{tot} \\frac{d^{5}}{d t^{5}} \\operatorname{C_{tot}}{\\left (t \\right )}}{N}$$"
      ],
      "text/plain": [
       "                                                                              \n",
       "                                                                              \n",
       "                                                                              \n",
       "                       5                                        4             \n",
       "  ⎛    aₜₒₜ⎞          d                ⎛    aₜₒₜ⎞ d            d              \n",
       "2⋅⎜α + ────⎟⋅Cₜₒₜ(t)⋅───(Cₜₒₜ(t)) + 10⋅⎜α + ────⎟⋅──(Cₜₒₜ(t))⋅───(Cₜₒₜ(t)) + 2\n",
       "  ⎜      2 ⎟           5               ⎜      2 ⎟ dt            4             \n",
       "  ⎝     N  ⎠         dt                ⎝     N  ⎠             dt              \n",
       "\n",
       "                                                5         \n",
       "                                               d          \n",
       "                                         rₜₒₜ⋅───(Cₜₒₜ(t))\n",
       "               2            3                   5         \n",
       "  ⎛    aₜₒₜ⎞  d            d                  dt          \n",
       "0⋅⎜α + ────⎟⋅───(Cₜₒₜ(t))⋅───(Cₜₒₜ(t)) + ─────────────────\n",
       "  ⎜      2 ⎟   2            3                    N        \n",
       "  ⎝     N  ⎠ dt           dt                              "
      ]
     },
     "execution_count": 23,
     "metadata": {},
     "output_type": "execute_result"
    }
   ],
   "source": [
    "dC_tot_app.diff(t,t,t,t,t)"
   ]
  },
  {
   "cell_type": "code",
   "execution_count": null,
   "metadata": {},
   "outputs": [],
   "source": []
  },
  {
   "cell_type": "code",
   "execution_count": 11,
   "metadata": {},
   "outputs": [
    {
     "data": {
      "image/png": "[encoded data removed]",
      "text/latex": [
       "$$\\left(e^{\\frac{E}{T_{1} k}} e^{- \\frac{E}{T_{2} k}}\\right)^{\\frac{10}{- T_{1} + T_{2}}}$$"
      ],
      "text/plain": [
       "                10   \n",
       "             ────────\n",
       "             -T₁ + T₂\n",
       "⎛  E    -E  ⎞        \n",
       "⎜ ────  ────⎟        \n",
       "⎜ T₁⋅k  T₂⋅k⎟        \n",
       "⎝ℯ    ⋅ℯ    ⎠        "
      ]
     },
     "execution_count": 11,
     "metadata": {},
     "output_type": "execute_result"
    }
   ],
   "source": [
    "Q10,R1,R2,T1,T2 = var(\"Q10,R1,R2,T1,T2\")\n",
    "R0,E,k = var(\"R0,E,k\")\n",
    "\n",
    "Q10_eq = (R2/R1)**(10/(T2-T1))\n",
    "\n",
    "x = Q10_eq.subs({R1:R0*exp(-E/(k*T1)), R2:R0*exp(-E/(k*T2))})\n",
    "\n",
    "x"
   ]
  },
  {
   "cell_type": "code",
   "execution_count": 23,
   "metadata": {},
   "outputs": [
    {
     "data": {
      "image/png": "[encoded data removed]",
      "text/latex": [
       "$$- \\frac{1}{T_{1} T_{2}}$$"
      ],
      "text/plain": [
       " -1  \n",
       "─────\n",
       "T₁⋅T₂"
      ]
     },
     "execution_count": 23,
     "metadata": {},
     "output_type": "execute_result"
    }
   ],
   "source": [
    "simplify(expand((1/T1 - 1/T2) *  (1 / (T1 - T2))))"
   ]
  },
  {
   "cell_type": "markdown",
   "metadata": {},
   "source": [
    "# Another Biomass Approximation"
   ]
  },
  {
   "cell_type": "code",
   "execution_count": 2,
   "metadata": {},
   "outputs": [
    {
     "data": {
      "image/png": "[encoded data removed]",
      "text/latex": [
       "$$\\frac{d}{d t} \\mu_{C}{\\left (t \\right )} = \\mu_{r} \\mu_{C}{\\left (t \\right )} + \\psi \\mu_{C}^{2}{\\left (t \\right )}$$"
      ],
      "text/plain": [
       "d                                                 2   \n",
       "──(\\mu_{C}(t)) = \\mu_{r}⋅\\mu_{C}(t) + \\psi⋅\\mu_{C} (t)\n",
       "dt                                                    "
      ]
     },
     "execution_count": 2,
     "metadata": {},
     "output_type": "execute_result"
    }
   ],
   "source": [
    "t = var(\"t\")\n",
    "r,r_μ = var(\"r,\\mu_{r}\")\n",
    "p = var(\"\\psi\")\n",
    "C = Function(\"C\")(t)\n",
    "C_μ = Function(\"\\mu_{C}\")(t)\n",
    "\n",
    "r0,E,T = var(\"r_0,E,T\")\n",
    "r = r0*exp(E*T)\n",
    "\n",
    "dC = Eq(C_μ.diff(t),r_μ*C_μ + p*C_μ**2)\n",
    "dC"
   ]
  },
  {
   "cell_type": "code",
   "execution_count": 3,
   "metadata": {},
   "outputs": [
    {
     "data": {
      "image/png": "[encoded data removed]",
      "text/latex": [
       "$$\\mu_{C}{\\left (t \\right )} = \\frac{\\mu_{r} e^{\\mu_{r} \\left(C_{1} + t\\right)}}{\\psi \\left(- e^{\\mu_{r} \\left(C_{1} + t\\right)} + 1\\right)}$$"
      ],
      "text/plain": [
       "                        \\mu_{r}⋅(C₁ + t)   \n",
       "               \\mu_{r}⋅ℯ                   \n",
       "\\mu_{C}(t) = ──────────────────────────────\n",
       "                  ⎛   \\mu_{r}⋅(C₁ + t)    ⎞\n",
       "             \\psi⋅⎝- ℯ                 + 1⎠"
      ]
     },
     "execution_count": 3,
     "metadata": {},
     "output_type": "execute_result"
    }
   ],
   "source": [
    "dC_sol = dsolve(dC,C_μ)\n",
    "dC_sol"
   ]
  },
  {
   "cell_type": "code",
   "execution_count": 4,
   "metadata": {},
   "outputs": [
    {
     "data": {
      "image/png": "[encoded data removed]",
      "text/latex": [
       "$$\\mu_{C}{\\left (t \\right )} = \\frac{\\mu_{r} \\mu_{C}{\\left (0 \\right )} e^{\\mu_{r} t}}{\\mu_{r} - \\psi \\mu_{C}{\\left (0 \\right )} e^{\\mu_{r} t} + \\psi \\mu_{C}{\\left (0 \\right )}}$$"
      ],
      "text/plain": [
       "                                             \\mu_{r}⋅t             \n",
       "                         \\mu_{r}⋅\\mu_{C}(0)⋅ℯ                      \n",
       "\\mu_{C}(t) = ──────────────────────────────────────────────────────\n",
       "                                        \\mu_{r}⋅t                  \n",
       "             \\mu_{r} - \\psi⋅\\mu_{C}(0)⋅ℯ          + \\psi⋅\\mu_{C}(0)"
      ]
     },
     "execution_count": 4,
     "metadata": {},
     "output_type": "execute_result"
    }
   ],
   "source": [
    "C1 = dC_sol.args[1].args[3].args[0].args[1].args[0]\n",
    "C1_sol = solve(dC_sol.subs(t,0),C1)[0]\n",
    "\n",
    "C_sol = simplify(dC_sol.subs(C1,C1_sol))\n",
    "C_sol"
   ]
  },
  {
   "cell_type": "code",
   "execution_count": 5,
   "metadata": {},
   "outputs": [
    {
     "data": {
      "image/png": "[encoded data removed]",
      "text/latex": [
       "$$\\mu_{C}{\\left (0 \\right )}$$"
      ],
      "text/plain": [
       "\\mu_{C}(0)"
      ]
     },
     "execution_count": 5,
     "metadata": {},
     "output_type": "execute_result"
    }
   ],
   "source": [
    "C_sol.args[1].subs(t,0)"
   ]
  },
  {
   "cell_type": "code",
   "execution_count": 6,
   "metadata": {},
   "outputs": [
    {
     "data": {
      "image/png": "[encoded data removed]",
      "text/latex": [
       "$$\\frac{\\mu_{r} \\left(e^{\\mu_{r} t} - 1\\right) \\mu_{C}^{2}{\\left (0 \\right )} e^{\\mu_{r} t}}{\\left(- \\mu_{r} + \\psi \\mu_{C}{\\left (0 \\right )} e^{\\mu_{r} t} - \\psi \\mu_{C}{\\left (0 \\right )}\\right)^{2}}$$"
      ],
      "text/plain": [
       "             ⎛ \\mu_{r}⋅t    ⎞        2     \\mu_{r}⋅t      \n",
       "     \\mu_{r}⋅⎝ℯ          - 1⎠⋅\\mu_{C} (0)⋅ℯ               \n",
       "──────────────────────────────────────────────────────────\n",
       "                                                         2\n",
       "⎛                            \\mu_{r}⋅t                  ⎞ \n",
       "⎝-\\mu_{r} + \\psi⋅\\mu_{C}(0)⋅ℯ          - \\psi⋅\\mu_{C}(0)⎠ "
      ]
     },
     "execution_count": 6,
     "metadata": {},
     "output_type": "execute_result"
    }
   ],
   "source": [
    "f = factor(C_sol.args[1].diff(p))\n",
    "f"
   ]
  },
  {
   "cell_type": "code",
   "execution_count": 7,
   "metadata": {},
   "outputs": [
    {
     "data": {
      "image/png": "[encoded data removed]",
      "text/latex": [
       "$$- \\frac{E \\left(\\psi r_{0} t \\mu_{C}{\\left (0 \\right )} e^{E T} - \\psi \\mu_{C}{\\left (0 \\right )} e^{r_{0} t e^{E T}} + \\psi \\mu_{C}{\\left (0 \\right )} + r_{0}^{2} t e^{2 E T}\\right)}{\\psi \\mu_{C}{\\left (0 \\right )} e^{r_{0} t e^{E T}} - \\psi \\mu_{C}{\\left (0 \\right )} - r_{0} e^{E T}}$$"
      ],
      "text/plain": [
       "   ⎛                                                   E⋅T                    \n",
       "   ⎜                      E⋅T                    r₀⋅t⋅ℯ                       \n",
       "-E⋅⎝\\psi⋅r₀⋅t⋅\\mu_{C}(0)⋅ℯ    - \\psi⋅\\mu_{C}(0)⋅ℯ          + \\psi⋅\\mu_{C}(0) +\n",
       "──────────────────────────────────────────────────────────────────────────────\n",
       "                                           E⋅T                                \n",
       "                                     r₀⋅t⋅ℯ                            E⋅T    \n",
       "                    \\psi⋅\\mu_{C}(0)⋅ℯ          - \\psi⋅\\mu_{C}(0) - r₀⋅ℯ       \n",
       "\n",
       "             ⎞ \n",
       "   2    2⋅E⋅T⎟ \n",
       " r₀ ⋅t⋅ℯ     ⎠ \n",
       "───────────────\n",
       "               \n",
       "               \n",
       "               "
      ]
     },
     "execution_count": 7,
     "metadata": {},
     "output_type": "execute_result"
    }
   ],
   "source": [
    "g = factor(log(C_sol.args[1].subs(r_μ,r)).diff(T))\n",
    "g"
   ]
  },
  {
   "cell_type": "code",
   "execution_count": 8,
   "metadata": {},
   "outputs": [
    {
     "data": {
      "image/png": "[encoded data removed]",
      "text/latex": [
       "$$\\frac{E r_{0} \\left(r_{0} t e^{E T} e^{r_{0} t e^{E T}} - e^{r_{0} t e^{E T}} + 1\\right) \\mu_{C}{\\left (0 \\right )} e^{E T}}{\\left(\\psi \\mu_{C}{\\left (0 \\right )} e^{r_{0} t e^{E T}} - \\psi \\mu_{C}{\\left (0 \\right )} - r_{0} e^{E T}\\right)^{2}}$$"
      ],
      "text/plain": [
       "     ⎛                 E⋅T          E⋅T    ⎞                \n",
       "     ⎜      E⋅T  r₀⋅t⋅ℯ       r₀⋅t⋅ℯ       ⎟             E⋅T\n",
       "E⋅r₀⋅⎝r₀⋅t⋅ℯ   ⋅ℯ          - ℯ          + 1⎠⋅\\mu_{C}(0)⋅ℯ   \n",
       "────────────────────────────────────────────────────────────\n",
       "                                                         2  \n",
       " ⎛                       E⋅T                            ⎞   \n",
       " ⎜                 r₀⋅t⋅ℯ                            E⋅T⎟   \n",
       " ⎝\\psi⋅\\mu_{C}(0)⋅ℯ          - \\psi⋅\\mu_{C}(0) - r₀⋅ℯ   ⎠   "
      ]
     },
     "execution_count": 8,
     "metadata": {},
     "output_type": "execute_result"
    }
   ],
   "source": [
    "h = factor(log(C_sol.args[1].subs(r_μ,r)).diff(T,p))\n",
    "h"
   ]
  },
  {
   "cell_type": "code",
   "execution_count": 9,
   "metadata": {},
   "outputs": [
    {
     "data": {
      "text/plain": [
       "<matplotlib.image.AxesImage at 0x10f89e080>"
      ]
     },
     "execution_count": 9,
     "metadata": {},
     "output_type": "execute_result"
    },
    {
     "data": {
      "image/png": "[encoded data removed]",
      "text/plain": [
       "<Figure size 432x288 with 1 Axes>"
      ]
     },
     "metadata": {},
     "output_type": "display_data"
    }
   ],
   "source": [
    "f_2_lam = g.subs({r0:1.0,E:0.10,C_μ.subs(t,0):0.01, t:2.5})\n",
    "f_lam = np.vectorize(lambdify((T,p), f_2_lam))\n",
    "\n",
    "p_vec = np.linspace(-3.0,1.0, num=100)\n",
    "T_vec = np.linspace(-1.0,1.0, num=100)\n",
    "\n",
    "res = f_lam(p_vec[:, np.newaxis],T_vec)\n",
    "\n",
    "plt.imshow(np.log(res))"
   ]
  },
  {
   "cell_type": "code",
   "execution_count": 17,
   "metadata": {},
   "outputs": [
    {
     "data": {
      "text/plain": [
       "[<matplotlib.lines.Line2D at 0x111ece828>]"
      ]
     },
     "execution_count": 17,
     "metadata": {},
     "output_type": "execute_result"
    },
    {
     "data": {
      "image/png": "[encoded data removed]",
      "text/plain": [
       "<Figure size 432x288 with 1 Axes>"
      ]
     },
     "metadata": {},
     "output_type": "display_data"
    }
   ],
   "source": [
    " plt.plot(p_vec,f_lam(p_vec,0.0))"
   ]
  },
  {
   "cell_type": "markdown",
   "metadata": {},
   "source": [
    "#  total respiration approximation\n"
   ]
  },
  {
   "cell_type": "code",
   "execution_count": 62,
   "metadata": {},
   "outputs": [
    {
     "data": {
      "image/png": "[encoded data removed]",
      "text/latex": [
       "$$R_{0 1} e^{- E_{R1} \\left(T - T_{ref}\\right)} + R_{0 2} e^{- E_{R2} \\left(T - T_{ref}\\right)}$$"
      ],
      "text/plain": [
       "      -E_R1⋅(T - T_ref)         -E_R2⋅(T - T_ref)\n",
       "R₀ ₁⋅ℯ                  + R₀ ₂⋅ℯ                 "
      ]
     },
     "execution_count": 62,
     "metadata": {},
     "output_type": "execute_result"
    }
   ],
   "source": [
    "t,T,T_ref,a = var(\"t,T,T_ref,a\")\n",
    "C_1 = Function(\"C_1\")(t,T)\n",
    "C_2 = Function(\"C_2\")(t,T)\n",
    "\n",
    "R_1 = Function(\"R_1\")(T)\n",
    "R_2 = Function(\"R_2\")(T)\n",
    "\n",
    "R0_1,R0_2,E_R1,E_R2 = var(\"R0_1,R0_2,E_R1,E_R2\")\n",
    "\n",
    "R1 = R0_1 * exp(-E_R1 * (T - T_ref))\n",
    "R2 = R0_2 * exp(-E_R2 * (T - T_ref))\n",
    "\n",
    "R1 + R2"
   ]
  },
  {
   "cell_type": "code",
   "execution_count": 63,
   "metadata": {},
   "outputs": [
    {
     "data": {
      "image/png": "[encoded data removed]",
      "text/latex": [
       "$$\\left(T - T_{ref}\\right) \\left(- \\frac{E_{R1} R_{0 1}}{R_{0 1} + R_{0 2}} - \\frac{E_{R2} R_{0 2}}{R_{0 1} + R_{0 2}}\\right) + \\log{\\left (R_{0 1} + R_{0 2} \\right )}$$"
      ],
      "text/plain": [
       "            ⎛   E_R1⋅R₀ ₁     E_R2⋅R₀ ₂ ⎞                   \n",
       "(T - T_ref)⋅⎜- ─────────── - ───────────⎟ + log(R₀ ₁ + R₀ ₂)\n",
       "            ⎝  R₀ ₁ + R₀ ₂   R₀ ₁ + R₀ ₂⎠                   "
      ]
     },
     "execution_count": 63,
     "metadata": {},
     "output_type": "execute_result"
    }
   ],
   "source": [
    "log(R1+R2).series(x=T,x0=T_ref,n=2).removeO()"
   ]
  },
  {
   "cell_type": "code",
   "execution_count": 64,
   "metadata": {},
   "outputs": [
    {
     "data": {
      "image/png": "[encoded data removed]",
      "text/latex": [
       "$$\\left(T - T_{ref}\\right) \\left(\\frac{\\left. \\frac{d}{d \\xi_{1}} \\operatorname{R_{1}}{\\left (\\xi_{1} \\right )} \\right|_{\\substack{ \\xi_{1}=T_{ref} }}}{\\operatorname{R_{1}}{\\left (T_{ref} \\right )} + \\operatorname{R_{2}}{\\left (T_{ref} \\right )}} + \\frac{\\left. \\frac{d}{d \\xi_{1}} \\operatorname{R_{2}}{\\left (\\xi_{1} \\right )} \\right|_{\\substack{ \\xi_{1}=T_{ref} }}}{\\operatorname{R_{1}}{\\left (T_{ref} \\right )} + \\operatorname{R_{2}}{\\left (T_{ref} \\right )}}\\right) + \\log{\\left (\\operatorname{R_{1}}{\\left (T_{ref} \\right )} + \\operatorname{R_{2}}{\\left (T_{ref} \\right )} \\right )}$$"
      ],
      "text/plain": [
       "            ⎛⎛ d         ⎞│           ⎛ d         ⎞│        ⎞                 \n",
       "            ⎜⎜───(R₁(ξ₁))⎟│           ⎜───(R₂(ξ₁))⎟│        ⎟                 \n",
       "            ⎜⎝dξ₁        ⎠│ξ₁=T_ref   ⎝dξ₁        ⎠│ξ₁=T_ref⎟                 \n",
       "(T - T_ref)⋅⎜────────────────────── + ──────────────────────⎟ + log(R₁(T_ref) \n",
       "            ⎝R₁(T_ref) + R₂(T_ref)    R₁(T_ref) + R₂(T_ref) ⎠                 \n",
       "\n",
       "            \n",
       "            \n",
       "            \n",
       "+ R₂(T_ref))\n",
       "            "
      ]
     },
     "execution_count": 64,
     "metadata": {},
     "output_type": "execute_result"
    }
   ],
   "source": [
    "series(log(R_1 + R_2), n=2, x=T, x0=T_ref).removeO()"
   ]
  },
  {
   "cell_type": "code",
   "execution_count": 71,
   "metadata": {},
   "outputs": [
    {
     "data": {
      "image/png": "[encoded data removed]",
      "text/latex": [
       "$$\\frac{\\operatorname{C_{1}}{\\left (t,0 \\right )} \\left. \\frac{d}{d x} \\operatorname{R_{1}}{\\left (x \\right )} \\right|_{\\substack{ x=0 }}}{\\operatorname{C_{1}}{\\left (t,0 \\right )} \\operatorname{R_{1}}{\\left (0 \\right )} + \\operatorname{C_{2}}{\\left (t,0 \\right )} \\operatorname{R_{2}}{\\left (0 \\right )}} + \\frac{\\operatorname{C_{2}}{\\left (t,0 \\right )} \\left. \\frac{d}{d x} \\operatorname{R_{2}}{\\left (x \\right )} \\right|_{\\substack{ x=0 }}}{\\operatorname{C_{1}}{\\left (t,0 \\right )} \\operatorname{R_{1}}{\\left (0 \\right )} + \\operatorname{C_{2}}{\\left (t,0 \\right )} \\operatorname{R_{2}}{\\left (0 \\right )}} + \\frac{\\operatorname{R_{1}}{\\left (0 \\right )} \\left. \\frac{\\partial}{\\partial x} \\operatorname{C_{1}}{\\left (t,x \\right )} \\right|_{\\substack{ x=0 }}}{\\operatorname{C_{1}}{\\left (t,0 \\right )} \\operatorname{R_{1}}{\\left (0 \\right )} + \\operatorname{C_{2}}{\\left (t,0 \\right )} \\operatorname{R_{2}}{\\left (0 \\right )}} + \\frac{\\operatorname{R_{2}}{\\left (0 \\right )} \\left. \\frac{\\partial}{\\partial x} \\operatorname{C_{2}}{\\left (t,x \\right )} \\right|_{\\substack{ x=0 }}}{\\operatorname{C_{1}}{\\left (t,0 \\right )} \\operatorname{R_{1}}{\\left (0 \\right )} + \\operatorname{C_{2}}{\\left (t,0 \\right )} \\operatorname{R_{2}}{\\left (0 \\right )}}$$"
      ],
      "text/plain": [
       "             ⎛d        ⎞│                      ⎛d        ⎞│                   \n",
       "    C₁(t, 0)⋅⎜──(R₁(x))⎟│             C₂(t, 0)⋅⎜──(R₂(x))⎟│             R₁(0)⋅\n",
       "             ⎝dx       ⎠│x=0                   ⎝dx       ⎠│x=0                \n",
       "─────────────────────────────── + ─────────────────────────────── + ──────────\n",
       "C₁(t, 0)⋅R₁(0) + C₂(t, 0)⋅R₂(0)   C₁(t, 0)⋅R₁(0) + C₂(t, 0)⋅R₂(0)   C₁(t, 0)⋅R\n",
       "\n",
       "⎛∂           ⎞│                   ⎛∂           ⎞│      \n",
       "⎜──(C₁(t, x))⎟│             R₂(0)⋅⎜──(C₂(t, x))⎟│      \n",
       "⎝∂x          ⎠│x=0                ⎝∂x          ⎠│x=0   \n",
       "───────────────────── + ───────────────────────────────\n",
       "₁(0) + C₂(t, 0)⋅R₂(0)   C₁(t, 0)⋅R₁(0) + C₂(t, 0)⋅R₂(0)"
      ]
     },
     "execution_count": 71,
     "metadata": {},
     "output_type": "execute_result"
    }
   ],
   "source": [
    "log(C_1*R_1+C_2*R_2).series(x=T,x0=0,n=2).removeO().diff(T)"
   ]
  },
  {
   "cell_type": "code",
   "execution_count": 75,
   "metadata": {},
   "outputs": [
    {
     "data": {
      "image/png": "[encoded data removed]",
      "text/latex": [
       "$$- E_{R1} R_{0 1}$$"
      ],
      "text/plain": [
       "-E_R1⋅R₀ ₁"
      ]
     },
     "execution_count": 75,
     "metadata": {},
     "output_type": "execute_result"
    }
   ],
   "source": [
    "R1.subs(T-T_ref , a) .diff(a).subs(a,0)"
   ]
  }
 ],
 "metadata": {
  "kernelspec": {
   "display_name": "Python 3",
   "language": "python",
   "name": "python3"
  },
  "language_info": {
   "codemirror_mode": {
    "name": "ipython",
    "version": 3
   },
   "file_extension": ".py",
   "mimetype": "text/x-python",
   "name": "python",
   "nbconvert_exporter": "python",
   "pygments_lexer": "ipython3",
   "version": "3.8.6"
  },
  "toc": {
   "nav_menu": {},
   "number_sections": true,
   "sideBar": true,
   "skip_h1_title": false,
   "title_cell": "Table of Contents",
   "title_sidebar": "Contents",
   "toc_cell": false,
   "toc_position": {},
   "toc_section_display": true,
   "toc_window_display": false
  }
 },
 "nbformat": 4,
 "nbformat_minor": 4
}
