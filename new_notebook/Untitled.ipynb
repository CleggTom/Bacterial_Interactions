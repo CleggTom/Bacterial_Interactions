{
 "cells": [
  {
   "cell_type": "code",
   "execution_count": 94,
   "metadata": {},
   "outputs": [
    {
     "name": "stderr",
     "output_type": "stream",
     "text": [
      "\u001b[32m\u001b[1m Activating\u001b[22m\u001b[39m environment at `~/Projects/Working/Bacterial_Interactions/Project.toml`\n"
     ]
    }
   ],
   "source": [
    "using Pkg\n",
    "\n",
    "Pkg.activate(\"..\")\n",
    "\n",
    "using SymPy"
   ]
  },
  {
   "cell_type": "code",
   "execution_count": 98,
   "metadata": {},
   "outputs": [
    {
     "data": {
      "text/latex": [
       "\\begin{equation*}- {R}_{i} + \\sum_{k=1}^{M} \\left({S}_{k} {U}_{i,k} - \\sum_{l=1}^{M} {L}_{k,l}\\right)\\end{equation*}"
      ],
      "text/plain": [
       "          M                                  \n",
       "        ______                               \n",
       "        ╲                                    \n",
       "         ╲     ⎛                 M          ⎞\n",
       "          ╲    ⎜                ___         ⎟\n",
       "           ╲   ⎜                ╲           ⎟\n",
       "            ╲  ⎜                 ╲          ⎟\n",
       "-R[i] +     ╱  ⎜S[k]⋅U[i, k] -   ╱   L[k, l]⎟\n",
       "           ╱   ⎜                ╱           ⎟\n",
       "          ╱    ⎜                ‾‾‾         ⎟\n",
       "         ╱     ⎝               l = 1        ⎠\n",
       "        ╱                                    \n",
       "        ‾‾‾‾‾‾                               \n",
       "        k = 1                                "
      ]
     },
     "execution_count": 98,
     "metadata": {},
     "output_type": "execute_result"
    }
   ],
   "source": [
    "i,j,k,l = symbols(\"i,j,k,l\", integer = true)\n",
    "N,M = symbols(\"N,M\",integer = true)\n",
    "foc = symbols(\"foc\", integer = true)\n",
    "C = sympy.IndexedBase(\"C\")\n",
    "S = sympy.IndexedBase(\"S\")\n",
    "U = sympy.IndexedBase(\"U\")\n",
    "R = sympy.IndexedBase(\"R\")\n",
    "L = sympy.IndexedBase(\"L\")\n",
    "I = sympy.IndexedBase(\"I\")\n",
    "\n",
    "\n",
    "dC = sympy.Sum(U[i,k] * S[k] - sympy.Sum(L[k,l],(l,1,M)) ,(k,1,M)) - R[i]"
   ]
  },
  {
   "cell_type": "code",
   "execution_count": 123,
   "metadata": {},
   "outputs": [
    {
     "data": {
      "text/latex": [
       "\\begin{equation*}\\frac{{R}_{i} - \\sum_{k=1}^{M - 1} {S}_{k} {U}_{i,k} + \\sum_{l=1}^{M} {L}_{foc,l} + \\sum_{\\substack{1 \\leq l \\leq M\\\\1 \\leq k \\leq M - 1}} {L}_{k,l}}{{U}_{i,foc}}\\end{equation*}"
      ],
      "text/plain": [
       "       M - 1                  M               M - 1   M          \n",
       "        ___                  ___               ___   ___         \n",
       "        ╲                    ╲                 ╲     ╲           \n",
       "         ╲                    ╲                 ╲     ╲          \n",
       "R[i] -   ╱   S[k]⋅U[i, k] +   ╱   L[foc, l] +   ╱     ╱   L[k, l]\n",
       "        ╱                    ╱                 ╱     ╱           \n",
       "        ‾‾‾                  ‾‾‾               ‾‾‾   ‾‾‾         \n",
       "       k = 1                l = 1             k = 1 l = 1        \n",
       "─────────────────────────────────────────────────────────────────\n",
       "                            U[i, foc]                            "
      ]
     },
     "execution_count": 123,
     "metadata": {},
     "output_type": "execute_result"
    }
   ],
   "source": [
    "#taking out one S\n",
    "dC_foc = S[foc] * U[i,foc]- sympy.Sum(L[foc,l],(l,1,M)) + sympy.Sum(U[i,k] * S[k] - sympy.Sum(L[k,l],(l,1,M)) ,(k,1,M-1)) - R[i]\n",
    "\n",
    "dC_sol = solve(dC_foc, S[foc])[1]"
   ]
  },
  {
   "cell_type": "code",
   "execution_count": 124,
   "metadata": {},
   "outputs": [
    {
     "data": {
      "text/latex": [
       "\\begin{equation*}{I}_{k} - \\sum_{i=1}^{N} {C}_{i} {S}_{k} {U}_{i,k} + \\sum_{\\substack{1 \\leq l \\leq M\\\\1 \\leq i \\leq N}} {C}_{i} {L}_{l,k} {S}_{l} {U}_{i,l}\\end{equation*}"
      ],
      "text/plain": [
       "         N                         N     M                            \n",
       "        ___                       ___   ___                           \n",
       "        ╲                         ╲     ╲                             \n",
       "         ╲                         ╲     ╲                            \n",
       "I[k] -   ╱   C[i]⋅S[k]⋅U[i, k] +   ╱     ╱   C[i]⋅L[l, k]⋅S[l]⋅U[i, l]\n",
       "        ╱                         ╱     ╱                             \n",
       "        ‾‾‾                       ‾‾‾   ‾‾‾                           \n",
       "       i = 1                     i = 1 l = 1                          "
      ]
     },
     "execution_count": 124,
     "metadata": {},
     "output_type": "execute_result"
    }
   ],
   "source": [
    "dS = I[k] - sympy.Sum(U[i,k] * S[k] * C[i], (i,1,N)) + sympy.Sum(U[i,l] * S[l] * C[i] * L[l,k],(l,1,M),(i,1,N))"
   ]
  },
  {
   "cell_type": "code",
   "execution_count": 125,
   "metadata": {},
   "outputs": [
    {
     "data": {
      "text/latex": [
       "\\begin{equation*}\\frac{{I}_{k} - {S}_{k} \\sum_{i=1}^{N - 1} {C}_{i} {U}_{i,k} + \\sum_{\\substack{1 \\leq l \\leq M\\\\1 \\leq i \\leq N - 1}} {C}_{i} {L}_{l,k} {S}_{l} {U}_{i,l}}{{S}_{k} {U}_{foc,k} + \\sum_{l=1}^{M} {L}_{l,k} {S}_{l} {U}_{foc,l}}\\end{equation*}"
      ],
      "text/plain": [
       "            N - 1                N - 1   M                            \n",
       "             ___                  ___   ___                           \n",
       "             ╲                    ╲     ╲                             \n",
       "              ╲                    ╲     ╲                            \n",
       "I[k] - S[k]⋅  ╱   C[i]⋅U[i, k] +   ╱     ╱   C[i]⋅L[l, k]⋅S[l]⋅U[i, l]\n",
       "             ╱                    ╱     ╱                             \n",
       "             ‾‾‾                  ‾‾‾   ‾‾‾                           \n",
       "            i = 1                i = 1 l = 1                          \n",
       "──────────────────────────────────────────────────────────────────────\n",
       "                               M                                      \n",
       "                              ___                                     \n",
       "                              ╲                                       \n",
       "                               ╲                                      \n",
       "            S[k]⋅U[foc, k] +   ╱   L[l, k]⋅S[l]⋅U[foc, l]             \n",
       "                              ╱                                       \n",
       "                              ‾‾‾                                     \n",
       "                             l = 1                                    "
      ]
     },
     "execution_count": 125,
     "metadata": {},
     "output_type": "execute_result"
    }
   ],
   "source": [
    "dS_foc = I[k] - \n",
    "sympy.Sum(U[i,k] * S[k] * C[i], (i,1,N-1)) + sympy.Sum(U[i,l] * S[l] * C[i] * L[l,k],(l,1,M),(i,1,N-1)) -\n",
    "C[foc] * (U[foc,k] * S[k] + sympy.Sum(U[foc,l] * S[l] * L[l,k],(l,1,M)))\n",
    "dS_sol = solve(dS_foc,C[foc])[1]"
   ]
  },
  {
   "cell_type": "code",
   "execution_count": 140,
   "metadata": {},
   "outputs": [
    {
     "data": {
      "text/latex": [
       "\\begin{equation*}{C}_{i} \\sum_{k=1}^{M} 0 - {R}_{i} + \\sum_{k=1}^{M} \\left({S}_{k} {U}_{i,k} - \\sum_{l=1}^{M} {L}_{k,l}\\right)\\end{equation*}"
      ],
      "text/plain": [
       "                        M                                  \n",
       "                      ______                               \n",
       "                      ╲                                    \n",
       "       M               ╲     ⎛                 M          ⎞\n",
       "      ___               ╲    ⎜                ___         ⎟\n",
       "      ╲                  ╲   ⎜                ╲           ⎟\n",
       "       ╲                  ╲  ⎜                 ╲          ⎟\n",
       "C[i]⋅  ╱   0 - R[i] +     ╱  ⎜S[k]⋅U[i, k] -   ╱   L[k, l]⎟\n",
       "      ╱                  ╱   ⎜                ╱           ⎟\n",
       "      ‾‾‾               ╱    ⎜                ‾‾‾         ⎟\n",
       "     k = 1             ╱     ⎝               l = 1        ⎠\n",
       "                      ╱                                    \n",
       "                      ‾‾‾‾‾‾                               \n",
       "                      k = 1                                "
      ]
     },
     "execution_count": 140,
     "metadata": {},
     "output_type": "execute_result"
    }
   ],
   "source": [
    "(dC*C[i]).diff(C[i])"
   ]
  }
 ],
 "metadata": {
  "kernelspec": {
   "display_name": "Julia 1.5.2",
   "language": "julia",
   "name": "julia-1.5"
  },
  "language_info": {
   "file_extension": ".jl",
   "mimetype": "application/julia",
   "name": "julia",
   "version": "1.5.2"
  }
 },
 "nbformat": 4,
 "nbformat_minor": 4
}
