{
 "cells": [
  {
   "cell_type": "code",
   "execution_count": 2,
   "metadata": {},
   "outputs": [
    {
     "name": "stderr",
     "output_type": "stream",
     "text": [
      "\u001b[32m\u001b[1m Activating\u001b[22m\u001b[39m environment at `~/Projects/Working/Bacterial_Interactions/Project.toml`\n"
     ]
    },
    {
     "data": {
      "text/plain": [
       "#89 (generic function with 1 method)"
      ]
     },
     "execution_count": 2,
     "metadata": {},
     "output_type": "execute_result"
    }
   ],
   "source": [
    "using Pkg\n",
    "\n",
    "Pkg.activate(\"..\")\n",
    "\n",
    "using SymPy\n",
    "\n",
    "include(\"Helper_scripts/julia/SymPy.Jl\")"
   ]
  },
  {
   "cell_type": "code",
   "execution_count": 85,
   "metadata": {},
   "outputs": [
    {
     "data": {
      "text/latex": [
       "\\[ \\left[ \\begin{array}{r}\\frac{a_{22} r_{1} + \\alpha r_{2}}{a_{11} a_{22} - \\alpha^{2}}\\\\\\frac{a_{11} r_{2} + \\alpha r_{1}}{a_{11} a_{22} - \\alpha^{2}}\\end{array} \\right] \\]"
      ],
      "text/plain": [
       "2-element Array{Sym,1}:\n",
       " (a_22*r_1 + alpha*r_2)/(a_11*a_22 - alpha^2)\n",
       " (a_11*r_2 + alpha*r_1)/(a_11*a_22 - alpha^2)"
      ]
     },
     "execution_count": 85,
     "metadata": {},
     "output_type": "execute_result"
    }
   ],
   "source": [
    "C1,C2 = symbols(\"C_1,C_2\")\n",
    "r1,r2 = symbols(\"r_1,r_2\")\n",
    "a11,a12,a21,a22,a = symbols(\"a_11,a_12,a_21,a_22,alpha\")\n",
    "b = symbols(\"beta\")\n",
    "Ktot,dK,K1,K2 = symbols(\"K_tot,Delta_K,K_1,K_2\")\n",
    "\n",
    "f1 = (r1 - a11 * C1 + a*C2)\n",
    "f2 = (r2 - a22 * C2 + a*C1)\n",
    "\n",
    "x = solve(f1,C2)[1]\n",
    "y = solve(f2,C1)[1]\n",
    "\n",
    "C1_sol = solve(f2.subs(C2,x),C1)[1]\n",
    "C2_sol = solve(f1.subs(C1,y),C2)[1]\n",
    "\n",
    "\n",
    "[C1_sol, C2_sol]"
   ]
  },
  {
   "cell_type": "code",
   "execution_count": 99,
   "metadata": {},
   "outputs": [
    {
     "data": {
      "text/latex": [
       "\\begin{equation*}- K_{tot} a_{11} a_{22} + K_{tot} \\alpha^{2} + a_{11} r_{2} + a_{22} r_{1} + \\alpha \\left(r_{1} + r_{2}\\right)\\end{equation*}"
      ],
      "text/plain": [
       "                      2                                \n",
       "-Kₜₒₜ⋅a₁₁⋅a₂₂ + Kₜₒₜ⋅α  + a₁₁⋅r₂ + a₂₂⋅r₁ + α⋅(r₁ + r₂)"
      ]
     },
     "execution_count": 99,
     "metadata": {},
     "output_type": "execute_result"
    }
   ],
   "source": [
    "Y = C2_sol.args[1].args[1]\n",
    "X = symbols(\"x\")\n",
    "\n",
    "f = (C1_sol + C2_sol).subs(Y,1) - Ktot*X\n",
    "\n",
    "a_poly = collect(expand(f.subs(X,bot)),a)\n"
   ]
  },
  {
   "cell_type": "code",
   "execution_count": 100,
   "metadata": {},
   "outputs": [
    {
     "data": {
      "text/latex": [
       "\\[ \\left[ \\begin{array}{r}\\frac{- r_{1} - r_{2} + \\sqrt{4 K_{tot}^{2} a_{11} a_{22} - 4 K_{tot} a_{11} r_{2} - 4 K_{tot} a_{22} r_{1} + r_{1}^{2} + 2 r_{1} r_{2} + r_{2}^{2}}}{2 K_{tot}}\\\\- \\frac{r_{1} + r_{2} + \\sqrt{4 K_{tot}^{2} a_{11} a_{22} - 4 K_{tot} a_{11} r_{2} - 4 K_{tot} a_{22} r_{1} + r_{1}^{2} + 2 r_{1} r_{2} + r_{2}^{2}}}{2 K_{tot}}\\end{array} \\right] \\]"
      ],
      "text/plain": [
       "2-element Array{Sym,1}:\n",
       " (-r_1 - r_2 + sqrt(4*K_tot^2*a_11*a_22 - 4*K_tot*a_11*r_2 - 4*K_tot*a_22*r_1 + r_1^2 + 2*r_1*r_2 + r_2^2))/(2*K_tot)\n",
       " -(r_1 + r_2 + sqrt(4*K_tot^2*a_11*a_22 - 4*K_tot*a_11*r_2 - 4*K_tot*a_22*r_1 + r_1^2 + 2*r_1*r_2 + r_2^2))/(2*K_tot)"
      ]
     },
     "execution_count": 100,
     "metadata": {},
     "output_type": "execute_result"
    }
   ],
   "source": [
    "roots = SymPy.solve(a_poly,a)\n",
    "roots"
   ]
  },
  {
   "cell_type": "code",
   "execution_count": 33,
   "metadata": {},
   "outputs": [
    {
     "data": {
      "text/latex": [
       "\\begin{equation*}\\frac{- a_{11} \\alpha r_{2} + \\alpha^{2} r_{1} + \\left(a_{11} a_{22} - \\alpha^{2}\\right) \\left(- a_{11} a_{22} r_{1} + a_{11} \\alpha r_{2} + r_{1}\\right)}{a_{11} a_{22} - \\alpha^{2}}\\end{equation*}"
      ],
      "text/plain": [
       "             2      ⎛           2⎞                              \n",
       "-a₁₁⋅α⋅r₂ + α ⋅r₁ + ⎝a₁₁⋅a₂₂ - α ⎠⋅(-a₁₁⋅a₂₂⋅r₁ + a₁₁⋅α⋅r₂ + r₁)\n",
       "────────────────────────────────────────────────────────────────\n",
       "                                     2                          \n",
       "                          a₁₁⋅a₂₂ - α                           "
      ]
     },
     "execution_count": 33,
     "metadata": {},
     "output_type": "execute_result"
    }
   ],
   "source": [
    "# Feasabilty\n"
   ]
  },
  {
   "cell_type": "markdown",
   "metadata": {},
   "source": [
    "# Stability"
   ]
  },
  {
   "cell_type": "code",
   "execution_count": 10,
   "metadata": {},
   "outputs": [
    {
     "data": {
      "text/latex": [
       "\\[\\left[ \\begin{array}{rr}- \\frac{a_{11} \\left(a_{22} r_{1} - \\alpha r_{2}\\right)}{a_{11} a_{22} - \\alpha^{2}}&- \\frac{\\alpha \\left(a_{22} r_{1} - \\alpha r_{2}\\right)}{a_{11} a_{22} - \\alpha^{2}}\\\\- \\frac{\\alpha \\left(a_{11} r_{2} - \\alpha r_{1}\\right)}{a_{11} a_{22} - \\alpha^{2}}&- \\frac{a_{22} \\left(a_{11} r_{2} - \\alpha r_{1}\\right)}{a_{11} a_{22} - \\alpha^{2}}\\end{array}\\right]\\]"
      ],
      "text/plain": [
       "2×2 Array{Sym,2}:\n",
       "  -a_11*(a_22*r_1 - alpha*r_2)/(a_11*a_22 - alpha^2)  …  -alpha*(a_22*r_1 - alpha*r_2)/(a_11*a_22 - alpha^2)\n",
       " -alpha*(a_11*r_2 - alpha*r_1)/(a_11*a_22 - alpha^2)      -a_22*(a_11*r_2 - alpha*r_1)/(a_11*a_22 - alpha^2)"
      ]
     },
     "execution_count": 10,
     "metadata": {},
     "output_type": "execute_result"
    }
   ],
   "source": [
    "#get jacobian\n",
    "J = [(f1).diff(C1) (f1).diff(C2) ; (f2).diff(C1) (f2).diff(C2)]\n",
    "J_eq = map(x -> subs(x,(C1,C1_sol),(C2,C2_sol)).simplify(), J)\n",
    "\n"
   ]
  },
  {
   "cell_type": "code",
   "execution_count": 20,
   "metadata": {},
   "outputs": [
    {
     "data": {
      "text/latex": [
       "\\begin{equation*}a^{4} + 4 a^{3} d + 6 a^{2} d^{2} + 2 a^{2} \\sqrt{a^{2} - 2 a d + 4 b c + d^{2}} + a^{2} + 4 a d^{3} + 4 a d \\sqrt{a^{2} - 2 a d + 4 b c + d^{2}} - 2 a d + 4 b c + d^{4} + 2 d^{2} \\sqrt{a^{2} - 2 a d + 4 b c + d^{2}} + d^{2}\\end{equation*}"
      ],
      "text/plain": [
       "                                _________________________                     \n",
       " 4      3        2  2      2   ╱  2                    2     2        3       \n",
       "a  + 4⋅a ⋅d + 6⋅a ⋅d  + 2⋅a ⋅╲╱  a  - 2⋅a⋅d + 4⋅b⋅c + d   + a  + 4⋅a⋅d  + 4⋅a⋅\n",
       "\n",
       "     _________________________                                ________________\n",
       "    ╱  2                    2                     4      2   ╱  2             \n",
       "d⋅╲╱  a  - 2⋅a⋅d + 4⋅b⋅c + d   - 2⋅a⋅d + 4⋅b⋅c + d  + 2⋅d ⋅╲╱  a  - 2⋅a⋅d + 4⋅\n",
       "\n",
       "_________     \n",
       "       2     2\n",
       "b⋅c + d   + d "
      ]
     },
     "execution_count": 20,
     "metadata": {},
     "output_type": "execute_result"
    }
   ],
   "source": [
    "a,b,c,d = symbols(\"a,b,c,d\")\n",
    "\n",
    "expand(((a+d)^2 + sqrt( (a+d)^2 - 4*(a*d - b*c)))^2)"
   ]
  }
 ],
 "metadata": {
  "kernelspec": {
   "display_name": "Julia 1.5.2",
   "language": "julia",
   "name": "julia-1.5"
  },
  "language_info": {
   "file_extension": ".jl",
   "mimetype": "application/julia",
   "name": "julia",
   "version": "1.5.2"
  }
 },
 "nbformat": 4,
 "nbformat_minor": 4
}
