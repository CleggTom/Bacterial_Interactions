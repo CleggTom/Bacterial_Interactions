{
 "cells": [
  {
   "cell_type": "markdown",
   "metadata": {},
   "source": [
    "# Introduction\n",
    "\n",
    "In this notebook I run through the theory asociated with the microbial competition experiments. The basic idea is to develop a model which describes the temperature dependence of respiratory flux in communities with interacting species. This requires the model to not only describe the temperature dependence of metabolism itself (as classic MTE does) but also the change in flux that occurs due to the species interactions and their effects on population growth. "
   ]
  },
  {
   "cell_type": "markdown",
   "metadata": {},
   "source": [
    "# What drives the temperature dependence of respiration?\n",
    "\n",
    "For any given ecosystem the total respiratory carbon flux, $R_{eco}$, can be written as the sum of respiratory  fluxes across all $N$ species in the system:\n",
    "\n",
    "$$\n",
    "R_{eco} = \\sum_i^N R_i\n",
    "$$\n",
    "\n",
    "which in turn can be written as the product of the mass-specific respiratory flux $\\tilde{R}_i$ and the total biomass for each population $C_i$:\n",
    "\n",
    "$$\n",
    "R_{eco} = \\sum_i^N R_i = \\sum_i^N \\tilde{R}_i C_i\n",
    "$$\n",
    "\n",
    "Thus carbon flux at an ecosystem level is driven not only by mass-specific rates of respiration but also the amount and distribution of biomass in the system. "
   ]
  },
  {
   "cell_type": "markdown",
   "metadata": {},
   "source": [
    "## Temperature dependence \n",
    "Classically metabolic theory has considered only the former of these two aspects, focusing on the effects of mass and temperature on the rate of respiration. In terms of temperature this is done by using the Arrhenius equation to represent respiratory rate:\n",
    "\n",
    "$$\n",
    "\\tilde{R}_i(T) = \\tilde{R_i}_0 e^{-E_\\tilde{R_i} (T_r - T_{ra})}\n",
    "$$\n",
    "\n",
    "where $\\tilde{R}_i(T)$ is the respiration at temperature $T$, $\\tilde{R}_{i0}$ is respiration at some reference temperature, $E_{\\tilde{R}_i}$ is the the temperature sensitivty of respiration and $T_r$ and $T_{ra}$ are the Boltzmann corrected temperature and reference temperature respectively. Substituing this into the equation above then gives:\n",
    "\n",
    "$$\n",
    "R_{eco} = \\sum_i^N \\tilde{R_i}_0 e^{-E_\\tilde{R_i} (T_r - T_{ra})} C_i\n",
    "$$\n",
    "\n",
    "which we can simplify by expressing the temperature component relative to $T_{ra}$ giving $\\Delta_T = T_r - T_{ra}$:\n",
    "\n",
    "$$\n",
    "R_{eco} = \\sum_i^N \\tilde{R_i}_0 e^{-E_\\tilde{R_i} \\Delta_T } C_i\n",
    "$$"
   ]
  },
  {
   "cell_type": "markdown",
   "metadata": {},
   "source": [
    "## Biomass \n",
    "Though informative, this approach ignores the dependence of biomass upon temperature which arrises from the effects of temperature on population growth rates and the interactions between species. Integrated through time, changes to the rates of population growth with temperature will alter the amount of biomass in any species population leading to temperature dependent biomass. \n",
    "\n",
    "We can formalise this idea by considering some function $f$ which describes the rate of biomass growth for a single species:\n",
    "\n",
    "$$\n",
    "\\frac{dC_i}{dt} = f_i(\\Delta_T;C_1,\\ldots,C_N;\\theta_1,\\ldots,\\theta_n)\n",
    "$$\n",
    "\n",
    "This function is dependent on the biomasses of other species in the system $(C_1,\\ldots,C_N)$, various parameters $(\\theta_1,\\ldots,\\theta_n)$ and the temperature $\\Delta_T$. Integrating this overtime will yeild some function giving us biomass which itself will be a function of temperature and time $t$:\n",
    "\n",
    "\\begin{align}\n",
    "C(t,\\Delta_T,\\theta) &= \\int_0^t f(\\Delta_T;C_1,\\ldots,C_N;\\theta_1,\\ldots,\\theta_n) dt \\\\\n",
    "R_{eco} &= \\sum_i^N (\\tilde{R_i}_0 e^{-E_\\tilde{R_i} \\Delta_T }) C_i(t,\\Delta_T,\\theta)\n",
    "\\end{align}"
   ]
  },
  {
   "cell_type": "markdown",
   "metadata": {},
   "source": [
    "Thus it is clear that to consider the temperature dependence of total ecosystem respiration we must consider botht the direct effects of temperature on metabolism (the LHS of the multiplication) and the indirect effects that occur via temporal biomass dynamics (the RHS)."
   ]
  },
  {
   "cell_type": "markdown",
   "metadata": {},
   "source": [
    "### The Effect of Interactions\n",
    "\n",
    "Given that we are interested in the effect of interations on ecosystem respiration and it's response to temperature we need to make explicit the model describing interactions between populations. The simplest approach to take here is to use the generalised Lotka-Volterra model which describes interactions using only linear terms:\n",
    "\n",
    "$$\n",
    "\\frac{dC_i}{dt} = C_i( r_i(\\Delta_T) + \\sum^N_{j=1} a_{ij}(\\Delta_T) C_j)\n",
    "$$\n",
    "\n",
    "where $r_i$ is the intrinsic growth rate of species $i$ (which is dependent on metabolism and should be related to respiration) and $a_{ij}$ describes the per capita effect of species $j$ on species $i$ (i.e. its capacity to increase or decrease its growth rate). Note the last term also includes the intraspecific effect which is assumed to be negative, indicating density dependence."
   ]
  },
  {
   "cell_type": "markdown",
   "metadata": {},
   "source": [
    "Though it is not possible to obtain a solution to this equation we can see looking at the integral:\n",
    "\n",
    "\\begin{align}\n",
    "C_i(t) &= C_i(0) e^{r_i(\\Delta_T) t} e^{\\int_0^t \\sum_{j=1}^N a_{ij}(\\Delta_T) C_j(t) dt } \n",
    "\\\\\n",
    "&= C_i(0) e^{r_i(\\Delta_T) t} e^{\\sum_{j=1}^N a_{ij}(\\Delta_T) \\int_0^t C_j(t) dt }\n",
    "\\end{align}\n",
    "\n",
    "that the biomass of any species at time $t$ is determined by its initial value $C_i(0)$, the contributions of it's intrinsic growth over time $e^{r_i(\\Delta_T) t}$ and the effect of other species biomass $e^{\\int_0^t \\sum_{j=1}^N a_{ij}(\\Delta_T) C_j(t) dt}$. Temperature enters here three times influencing the intrinsic rate of growth $r_i(\\Delta_T)$, the strength of the interactions with other species and themselves $a_{ij}(\\Delta_T)$ and in the integral giving the biomass of each species $\\int_0^t C_j(t) dt = C_j(\\Delta_T,t)$. \n",
    "\n",
    "Broadly, we can see that stronger interactions will alter the temperature response (as they are multiplied by the intergral) with their sign affecting the direction of this change. Importantly this effect occurs even when interactions themselves are not temperature dependent as the biomass itself has a temperature dependence."
   ]
  },
  {
   "cell_type": "markdown",
   "metadata": {},
   "source": [
    "## Simulations\n",
    "\n",
    "As mentioned above we cannot analytically solve a multispecies system to get the effect of interactions on ecosystem level respiration. We can however, use numerical simualtions to get an idea about the effect of interactions on respiratory output. \n",
    "\n",
    "For the simualtions below I use a modified consumer-resource model:\n",
    "\n",
    "\\begin{align}\n",
    "\\frac{dC_i}{dt} &= C_i S (U_i + \\sum_{j = 0}^{N} a_{ij} C_j) - C_i R\n",
    "                \\\\\n",
    "\\frac{dS}{dt} &= \\rho - \\sum_{i = 0}^N C_i S (U_i + \\sum_{j = 0}^{N} a_{ij} C_j)\n",
    "\\end{align}"
   ]
  },
  {
   "cell_type": "markdown",
   "metadata": {},
   "source": [
    "The top equation describes the biomass growth of population $i$ which is given by the uptake of some shared resource $S$ (as shown in the first term) minus the respiratory loss of carbon $R_i$. The rate of uptake is given by a combination of the uptake rate of the species $U_i$ and the effects of other species in the system on the rate of resource uptake $\\sum_{j=0}^N a_{ij} C_j$. The amount of resource changes over time with some inflow rate $\\rho$ (which can be $0$ for a closed system) minus the resources taken up by all species. \n",
    "\n",
    "This model, though simplistic, allows us to capture the key features of the experimental system including the strength/sign of the interactions between species and thier effects over time. Below I show some simulation results showing the effect of changing interaction strength on total biomass and rates of respiration."
   ]
  },
  {
   "cell_type": "markdown",
   "metadata": {},
   "source": [
    "### Interactions\n",
    "I start by looking at how the respiration in this system over time changes as we alter the intensity of interactions between species (with no change in temperature). In this simualtion species intrinsic uptake rates $U$ are randomly generated and only the values of the interaction matrix $a_{ij}$ are varied from systems with purely competitve interactions (in black) to those with facilative interactions (in red). The blue line is the null model in which species do not interact directly. "
   ]
  },
  {
   "cell_type": "markdown",
   "metadata": {},
   "source": [
    "![interaction_resp](figures/interaction_resp.png)"
   ]
  },
  {
   "cell_type": "markdown",
   "metadata": {},
   "source": [
    "### Temperature\n",
    "We can see above that interactions alter the respiratory flux but how does that interact with temperature? To look at this I simulated the sytems above (varying in interaction type) across a range of temperatures. In these simulations the rate of uptake $U$ and respiration $R$ were both represented with boltzmann arrhenius equations. By simulating across temperatures we can look at the temperature sensitivity of respiration for the whole system."
   ]
  },
  {
   "cell_type": "markdown",
   "metadata": {},
   "source": [
    "#### Just Temperature\n",
    "I first present the temperature response for an single system (with a given interaction matrix) to show the general effects of temperature on respiration."
   ]
  },
  {
   "cell_type": "markdown",
   "metadata": {},
   "source": [
    "![temp_resp](figures/temp_single.png)"
   ]
  },
  {
   "cell_type": "markdown",
   "metadata": {},
   "source": [
    "The left figure here shows respiratory flux over time at different temperatures (red being hot and blue cold). The right pannel shows the respiratory flux against temperature for different times up to the vertical line on the left hand plot (black is close to $t = 0$ and green at the vertical line).\n",
    "\n",
    "We can see from these plots that the temperature dependence of respiration changes due to the biomass dynamics over time, becoming more sensitive over the period of exponential growth."
   ]
  },
  {
   "cell_type": "markdown",
   "metadata": {},
   "source": [
    "#### Across interaction strengths\n",
    "In order to look at the effects of interaction strength on this relationship I consider the ecosystem respiratory flux occuring at a single timepoint across all systems. Using the time at the vertical value in the plots above we can look at the respiration vs temperature curve across a range of interaction strengths:"
   ]
  },
  {
   "cell_type": "markdown",
   "metadata": {},
   "source": [
    "![](figures/temp_int.png)"
   ]
  },
  {
   "cell_type": "markdown",
   "metadata": {},
   "source": [
    "Thus we can see that as interactions get more facilative (black to red) we see a higher temperature sensitvity of respiration in the exponential phase. "
   ]
  },
  {
   "cell_type": "markdown",
   "metadata": {},
   "source": [
    "Finally ploting these in logscale we can look at the gradient of these lines to get an estimate of the  E value which clearly increases as we change the average interaction strength across the community:"
   ]
  },
  {
   "cell_type": "markdown",
   "metadata": {},
   "source": [
    "![](figures/E_int.png)"
   ]
  },
  {
   "cell_type": "markdown",
   "metadata": {},
   "source": [
    "Thus it is clear that systems with more faciative interactions will tend to be more sensitive to temperature in their respiratory fluxes.  "
   ]
  },
  {
   "cell_type": "markdown",
   "metadata": {},
   "source": [
    "# Data\n",
    "In order to use these numerical simulations to predict the results of the empirical experiments we will need measurements (or estimates) of several key parameters.\n",
    "\n",
    "## Single species\n",
    "The single species data will parameterise the growth model and can also be used to provide a null prediction of no species interactions. \n",
    "\n",
    "- Respiration\n",
    " - measurements of mass-specific respiration and its temperature response for each individual species.\n",
    "- Growth / Uptake\n",
    " - measurements of biomass growth rate in isolation and its temperature dependence.\n",
    "\n",
    "## Pairs Data\n",
    "The pairs data will be used to parameterise the interactions. This can be done either by looking at the change in growth rate when species are grown together or in the change in biomass (at some timepoint) \n",
    "\n",
    "## Community data\n",
    "The community data will then be used to test the predictions generated by the model "
   ]
  }
 ],
 "metadata": {
  "kernelspec": {
   "display_name": "Julia 1.1.0",
   "language": "julia",
   "name": "julia-1.1"
  },
  "language_info": {
   "file_extension": ".jl",
   "mimetype": "application/julia",
   "name": "julia",
   "version": "1.1.0"
  },
  "toc": {
   "nav_menu": {},
   "number_sections": true,
   "sideBar": true,
   "skip_h1_title": false,
   "title_cell": "Table of Contents",
   "title_sidebar": "Contents",
   "toc_cell": false,
   "toc_position": {},
   "toc_section_display": true,
   "toc_window_display": false
  }
 },
 "nbformat": 4,
 "nbformat_minor": 2
}
