{
 "cells": [
  {
   "cell_type": "code",
   "execution_count": 1,
   "metadata": {},
   "outputs": [],
   "source": [
    "#Load some modules etc\n",
    "%matplotlib inline\n",
    "import matplotlib.pyplot as plt\n",
    "from sympy import *\n",
    "import scipy as sc\n",
    "import numpy as np\n",
    "init_printing()"
   ]
  },
  {
   "cell_type": "code",
   "execution_count": 21,
   "metadata": {},
   "outputs": [],
   "source": [
    "t = var(\"t\")\n",
    "C = Function(\"C\")(t)\n",
    "dC = diff(C,t)\n",
    "\n",
    "Td = var(\"T_{\\Delta}\")\n",
    "\n",
    "r0,Er = var(\"r_0,E_r\")\n",
    "K0,EK = var(\"K_0,E_K\")\n",
    "\n",
    "r,K = var(\"r,K\")\n",
    "\n",
    "r_T = r0 * exp(-Er * Td)\n",
    "K_T = K0 * exp(-EK * Td)"
   ]
  },
  {
   "cell_type": "code",
   "execution_count": 22,
   "metadata": {},
   "outputs": [
    {
     "data": {
      "image/png": "[encoded data removed]",
      "text/latex": [
       "$$C{\\left (t \\right )} = \\frac{K e^{C_{1} K + r t}}{e^{C_{1} K + r t} - 1}$$"
      ],
      "text/plain": [
       "           C₁⋅K + r⋅t \n",
       "        K⋅ℯ           \n",
       "C(t) = ───────────────\n",
       "        C₁⋅K + r⋅t    \n",
       "       ℯ           - 1"
      ]
     },
     "execution_count": 22,
     "metadata": {},
     "output_type": "execute_result"
    }
   ],
   "source": [
    "C_sol = dsolve(Eq(dC,C*r*(1 - C/K) ),C)\n",
    "C_sol"
   ]
  },
  {
   "cell_type": "code",
   "execution_count": 23,
   "metadata": {},
   "outputs": [
    {
     "data": {
      "image/png": "[encoded data removed]",
      "text/latex": [
       "$$C_{1}$$"
      ],
      "text/plain": [
       "C₁"
      ]
     },
     "execution_count": 23,
     "metadata": {},
     "output_type": "execute_result"
    }
   ],
   "source": [
    "C_int = C_sol.args[1].args[1].args[0].args[1].args[0].args[0].args[0]\n",
    "C_int"
   ]
  },
  {
   "cell_type": "code",
   "execution_count": 5,
   "metadata": {},
   "outputs": [
    {
     "data": {
      "image/png": "[encoded data removed]",
      "text/latex": [
       "$$\\frac{\\log{\\left (- \\frac{C{\\left (0 \\right )}}{K - C{\\left (0 \\right )}} \\right )}}{K}$$"
      ],
      "text/plain": [
       "   ⎛ -C(0)  ⎞\n",
       "log⎜────────⎟\n",
       "   ⎝K - C(0)⎠\n",
       "─────────────\n",
       "      K      "
      ]
     },
     "execution_count": 5,
     "metadata": {},
     "output_type": "execute_result"
    }
   ],
   "source": [
    "C0 = C.subs({t:0})\n",
    "C_int_value = solve(C_sol.subs({t:0}),C_int)[0]\n",
    "C_int_value"
   ]
  },
  {
   "cell_type": "code",
   "execution_count": 6,
   "metadata": {},
   "outputs": [
    {
     "data": {
      "image/png": "[encoded data removed]",
      "text/latex": [
       "$$C{\\left (t \\right )} = \\frac{K C{\\left (0 \\right )} e^{r t}}{K + C{\\left (0 \\right )} e^{r t} - C{\\left (0 \\right )}}$$"
      ],
      "text/plain": [
       "                   r⋅t     \n",
       "           K⋅C(0)⋅ℯ        \n",
       "C(t) = ────────────────────\n",
       "                 r⋅t       \n",
       "       K + C(0)⋅ℯ    - C(0)"
      ]
     },
     "execution_count": 6,
     "metadata": {},
     "output_type": "execute_result"
    }
   ],
   "source": [
    "C_sol_all = C_sol.subs({C_int:C_int_value})\n",
    "simplify(C_sol_all)"
   ]
  },
  {
   "cell_type": "code",
   "execution_count": 7,
   "metadata": {},
   "outputs": [
    {
     "data": {
      "image/png": "[encoded data removed]",
      "text/latex": [
       "$$C{\\left (t \\right )} = - \\frac{K^{2} f e^{r t}}{\\left(- K f + K\\right) \\left(- \\frac{K f e^{r t}}{- K f + K} - 1\\right)}$$"
      ],
      "text/plain": [
       "                 2    r⋅t         \n",
       "               -K ⋅f⋅ℯ            \n",
       "C(t) = ───────────────────────────\n",
       "                  ⎛       r⋅t    ⎞\n",
       "                  ⎜  K⋅f⋅ℯ       ⎟\n",
       "       (-K⋅f + K)⋅⎜- ──────── - 1⎟\n",
       "                  ⎝  -K⋅f + K    ⎠"
      ]
     },
     "execution_count": 7,
     "metadata": {},
     "output_type": "execute_result"
    }
   ],
   "source": [
    "f = var(\"f\")\n",
    "C_sol_all = C_sol_all.subs({C0:K*f})\n",
    "C_sol_all"
   ]
  },
  {
   "cell_type": "code",
   "execution_count": 8,
   "metadata": {},
   "outputs": [
    {
     "data": {
      "image/png": "[encoded data removed]",
      "text/latex": [
       "$$\\frac{\\log{\\left (- \\frac{\\left(K - \\epsilon\\right) \\left(f - 1\\right)}{\\epsilon f} \\right )}}{r}$$"
      ],
      "text/plain": [
       "   ⎛-(K - ε)⋅(f - 1) ⎞\n",
       "log⎜─────────────────⎟\n",
       "   ⎝       ε⋅f       ⎠\n",
       "──────────────────────\n",
       "          r           "
      ]
     },
     "execution_count": 8,
     "metadata": {},
     "output_type": "execute_result"
    }
   ],
   "source": [
    "e = var(\"epsilon\")\n",
    "t_eq = solve(C_sol_all.subs({C:K-e,C0:f*K}),t)[0]\n",
    "t_eq"
   ]
  },
  {
   "cell_type": "code",
   "execution_count": 9,
   "metadata": {},
   "outputs": [
    {
     "data": {
      "image/png": "[encoded data removed]",
      "text/latex": [
       "$$\\frac{\\tau \\log{\\left (- \\frac{\\left(K - \\epsilon\\right) \\left(f - 1\\right)}{\\epsilon f} \\right )}}{r}$$"
      ],
      "text/plain": [
       "     ⎛-(K - ε)⋅(f - 1) ⎞\n",
       "τ⋅log⎜─────────────────⎟\n",
       "     ⎝       ε⋅f       ⎠\n",
       "────────────────────────\n",
       "           r            "
      ]
     },
     "execution_count": 9,
     "metadata": {},
     "output_type": "execute_result"
    }
   ],
   "source": [
    "tau = var(\"tau\")\n",
    "t_tau = tau * t_eq\n",
    "t_tau"
   ]
  },
  {
   "cell_type": "code",
   "execution_count": 15,
   "metadata": {},
   "outputs": [
    {
     "data": {
      "image/png": "[encoded data removed]",
      "text/latex": [
       "$$C{\\left (\\frac{\\tau \\log{\\left (- \\frac{\\left(K - \\epsilon\\right) \\left(f - 1\\right)}{\\epsilon f} \\right )}}{r} \\right )} = \\frac{K f e^{\\tau \\log{\\left (- \\frac{\\left(K - \\epsilon\\right) \\left(f - 1\\right)}{\\epsilon f} \\right )}}}{f e^{\\tau \\log{\\left (- \\frac{\\left(K - \\epsilon\\right) \\left(f - 1\\right)}{\\epsilon f} \\right )}} - f + 1}$$"
      ],
      "text/plain": [
       "                                           ⎛-(K - ε)⋅(f - 1) ⎞   \n",
       " ⎛     ⎛-(K - ε)⋅(f - 1) ⎞⎞           τ⋅log⎜─────────────────⎟   \n",
       " ⎜τ⋅log⎜─────────────────⎟⎟                ⎝       ε⋅f       ⎠   \n",
       " ⎜     ⎝       ε⋅f       ⎠⎟      K⋅f⋅ℯ                           \n",
       "C⎜────────────────────────⎟ = ───────────────────────────────────\n",
       " ⎝           r            ⎠           ⎛-(K - ε)⋅(f - 1) ⎞        \n",
       "                                 τ⋅log⎜─────────────────⎟        \n",
       "                                      ⎝       ε⋅f       ⎠        \n",
       "                              f⋅ℯ                         - f + 1"
      ]
     },
     "execution_count": 15,
     "metadata": {},
     "output_type": "execute_result"
    }
   ],
   "source": [
    "x = simplify(C_sol_all.subs({t:t_tau}))\n",
    "x"
   ]
  },
  {
   "cell_type": "code",
   "execution_count": 18,
   "metadata": {},
   "outputs": [
    {
     "data": {
      "image/png": "[encoded data removed]",
      "text/latex": [
       "$$\\frac{K f e^{\\tau \\log{\\left (- \\frac{\\left(K - \\epsilon\\right) \\left(f - 1\\right)}{\\epsilon f} \\right )}}}{f e^{\\tau \\log{\\left (- \\frac{\\left(K - \\epsilon\\right) \\left(f - 1\\right)}{\\epsilon f} \\right )}} - f + 1}$$"
      ],
      "text/plain": [
       "             ⎛-(K - ε)⋅(f - 1) ⎞   \n",
       "        τ⋅log⎜─────────────────⎟   \n",
       "             ⎝       ε⋅f       ⎠   \n",
       "   K⋅f⋅ℯ                           \n",
       "───────────────────────────────────\n",
       "        ⎛-(K - ε)⋅(f - 1) ⎞        \n",
       "   τ⋅log⎜─────────────────⎟        \n",
       "        ⎝       ε⋅f       ⎠        \n",
       "f⋅ℯ                         - f + 1"
      ]
     },
     "execution_count": 18,
     "metadata": {},
     "output_type": "execute_result"
    }
   ],
   "source": [
    "x.args[1].subs()"
   ]
  },
  {
   "cell_type": "code",
   "execution_count": 12,
   "metadata": {},
   "outputs": [
    {
     "data": {
      "image/png": "[encoded data removed]",
      "text/latex": [
       "$$\\frac{0.65 \\left(- 198.99 \\tau - 0.9999 e^{13.8053602171104 \\tau} + 0.9999\\right)}{0.9999 e^{13.8053602171104 \\tau} + 98.9901}$$"
      ],
      "text/plain": [
       "     ⎛                    13.8053602171104⋅τ         ⎞\n",
       "0.65⋅⎝-198.99⋅τ - 0.9999⋅ℯ                   + 0.9999⎠\n",
       "──────────────────────────────────────────────────────\n",
       "                 13.8053602171104⋅τ                   \n",
       "         0.9999⋅ℯ                   + 98.9901         "
      ]
     },
     "execution_count": 12,
     "metadata": {},
     "output_type": "execute_result"
    }
   ],
   "source": [
    "from sympy.plotting import plot3d\n",
    "\n",
    "a = z.subs({EK:0.65,K0:10,C0:0.1,e:0.001,Td:0.0})\n",
    "a"
   ]
  },
  {
   "cell_type": "code",
   "execution_count": 13,
   "metadata": {},
   "outputs": [
    {
     "data": {
      "image/png": "[encoded data removed]",
      "text/latex": [
       "$$-0.65006500650065$$"
      ],
      "text/plain": [
       "-0.650065006500650"
      ]
     },
     "execution_count": 13,
     "metadata": {},
     "output_type": "execute_result"
    }
   ],
   "source": [
    "a.subs({tau:1})"
   ]
  },
  {
   "cell_type": "code",
   "execution_count": null,
   "metadata": {},
   "outputs": [],
   "source": []
  },
  {
   "cell_type": "code",
   "execution_count": null,
   "metadata": {},
   "outputs": [],
   "source": []
  },
  {
   "cell_type": "code",
   "execution_count": null,
   "metadata": {},
   "outputs": [],
   "source": []
  }
 ],
 "metadata": {
  "kernelspec": {
   "display_name": "Python 3",
   "language": "python",
   "name": "python3"
  },
  "language_info": {
   "codemirror_mode": {
    "name": "ipython",
    "version": 3
   },
   "file_extension": ".py",
   "mimetype": "text/x-python",
   "name": "python",
   "nbconvert_exporter": "python",
   "pygments_lexer": "ipython3",
   "version": "3.7.3"
  },
  "toc": {
   "nav_menu": {},
   "number_sections": true,
   "sideBar": true,
   "skip_h1_title": false,
   "title_cell": "Table of Contents",
   "title_sidebar": "Contents",
   "toc_cell": false,
   "toc_position": {},
   "toc_section_display": true,
   "toc_window_display": false
  }
 },
 "nbformat": 4,
 "nbformat_minor": 2
}
